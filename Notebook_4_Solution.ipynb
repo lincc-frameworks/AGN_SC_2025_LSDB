{
 "cells": [
  {
   "cell_type": "code",
   "execution_count": null,
   "id": "bb2a3c17-c06d-4526-bf51-99d09e815785",
   "metadata": {},
   "outputs": [],
   "source": []
  },
  {
   "cell_type": "code",
   "execution_count": 2,
   "id": "4cc13d07-aed4-4838-b998-625ef70cbd71",
   "metadata": {
    "execution": {
     "iopub.execute_input": "2025-07-08T00:31:43.206998Z",
     "iopub.status.busy": "2025-07-08T00:31:43.206381Z",
     "iopub.status.idle": "2025-07-08T00:31:43.209348Z",
     "shell.execute_reply": "2025-07-08T00:31:43.208884Z",
     "shell.execute_reply.started": "2025-07-08T00:31:43.206974Z"
    }
   },
   "outputs": [],
   "source": [
    "# load ztf into lsdb\n",
    "# crossmatch with 10 csv locations\n",
    "# how many do you find\n",
    "# perhaps see if you get more if you increase number of neighbors, because ZTF has that weird objectID problem\n",
    "# try to fold at least one lightcurve in at least one band and get a reasonable result"
   ]
  },
  {
   "cell_type": "code",
   "execution_count": null,
   "id": "4c6cff41-d3ca-4638-bf70-2b181f159f1c",
   "metadata": {},
   "outputs": [],
   "source": []
  },
  {
   "cell_type": "code",
   "execution_count": null,
   "id": "ca2a34ed-a93c-446e-a5f3-59940c84528c",
   "metadata": {},
   "outputs": [],
   "source": [
    "variables_csv = \\\n",
    "\"\"\"ra,dec,period\n",
    "94.95546,-24.73952,0.12095\n",
    "95.30235,-25.27431,0.12248\n",
    "94.91626,-24.69648,0.12038\n",
    "95.12418,-25.04329,0.23554\n",
    "58.83506,-48.79122,0.56335\n",
    "94.92264,-25.23185,0.07672\n",
    "94.72086,-25.05767,0.17559\n",
    "94.97073,-25.13643,0.12048\n",
    "59.12997,-48.78522,0.11628\n",
    "94.72086,-25.05767,0.17554\n",
    "\"\"\"\n",
    "variables_df = pd.read_csv(StringIO(variables_csv)).reset_index()\n",
    "\n",
    "# Transform the DataFrame into a LSDB Catalog. Not necesarry to crossmatch, but to showcase the ability to do so.\n",
    "variables_catalog = lsdb.from_dataframe(variables_df)\n",
    "variables_catalog"
   ]
  }
 ],
 "metadata": {
  "kernelspec": {
   "display_name": "LSST",
   "language": "python",
   "name": "lsst"
  },
  "language_info": {
   "codemirror_mode": {
    "name": "ipython",
    "version": 3
   },
   "file_extension": ".py",
   "mimetype": "text/x-python",
   "name": "python",
   "nbconvert_exporter": "python",
   "pygments_lexer": "ipython3",
   "version": "3.12.11"
  }
 },
 "nbformat": 4,
 "nbformat_minor": 5
}
