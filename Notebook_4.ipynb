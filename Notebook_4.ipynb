{
 "cells": [
  {
   "cell_type": "markdown",
   "id": "b4762cac",
   "metadata": {},
   "source": [
    "Author: Neven Caplar and the LINCC Frameworks team\n",
    "\n",
    "Last updated: July 06, 2025"
   ]
  },
  {
   "cell_type": "markdown",
   "id": "760d624c",
   "metadata": {},
   "source": []
  }
 ],
 "metadata": {
  "kernelspec": {
   "display_name": "Python 3 (ipykernel)",
   "language": "python",
   "name": "python3"
  }
 },
 "nbformat": 4,
 "nbformat_minor": 5
}
