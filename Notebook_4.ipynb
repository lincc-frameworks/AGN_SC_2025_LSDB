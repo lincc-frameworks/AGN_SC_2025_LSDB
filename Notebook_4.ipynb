{
 "cells": [
  {
   "cell_type": "markdown",
   "id": "b4762cac",
   "metadata": {},
   "source": [
    "Author: Neven Caplar and the LINCC Frameworks team\n",
    "\n",
    "Last updated: July 07, 2025"
   ]
  },
  {
   "cell_type": "markdown",
   "id": "760d624c",
   "metadata": {},
   "source": [
    "# Bringing it together for Rubin data Collections"
   ]
  },
  {
   "cell_type": "markdown",
   "id": "bae3c826-00c6-46a0-80ea-6ee2fb80e923",
   "metadata": {},
   "source": [
    "In this tutorial, you will learn:\n",
    "\n",
    "- What are collections\n",
    "- How to get to Rubin data"
   ]
  },
  {
   "cell_type": "markdown",
   "id": "a10701fc",
   "metadata": {},
   "source": [
    "## Visualize periodic lightcurves in Rubin data"
   ]
  },
  {
   "cell_type": "code",
   "execution_count": 1,
   "id": "3f797fb1",
   "metadata": {
    "execution": {
     "iopub.execute_input": "2025-07-07T20:57:59.438170Z",
     "iopub.status.busy": "2025-07-07T20:57:59.437996Z",
     "iopub.status.idle": "2025-07-07T20:58:03.464933Z",
     "shell.execute_reply": "2025-07-07T20:58:03.464209Z",
     "shell.execute_reply.started": "2025-07-07T20:57:59.438152Z"
    }
   },
   "outputs": [],
   "source": [
    "import astropy.units as u\n",
    "import lsdb\n",
    "import matplotlib.pyplot as plt\n",
    "import numpy as np\n",
    "import pandas as pd\n",
    "\n",
    "import lsdb\n",
    "\n",
    "from dask.distributed import Client\n",
    "from io import StringIO\n",
    "from nested_pandas import NestedDtype\n",
    "from pathlib import Path\n",
    "\n",
    "import warnings\n",
    "\n",
    "# Disable plotting warnings\n",
    "warnings.filterwarnings(\"ignore\")"
   ]
  },
  {
   "cell_type": "markdown",
   "id": "ada3107f-e22b-42d2-8ebe-73fa388e024a",
   "metadata": {},
   "source": [
    "Rubin data are organized in so-called ``collections``. A collection is the logical container for a group of catalogs that belong together. This often corresponds to a data release, a processing run, or a particular science product family. What this means for you is that you dont have to specify margin catalogs explicity (as we had to do in Notebook 1); the margin catalog is already preloaded for you."
   ]
  },
  {
   "cell_type": "code",
   "execution_count": 2,
   "id": "f857608f",
   "metadata": {
    "execution": {
     "iopub.execute_input": "2025-07-07T20:58:03.468066Z",
     "iopub.status.busy": "2025-07-07T20:58:03.467576Z",
     "iopub.status.idle": "2025-07-07T20:58:07.242482Z",
     "shell.execute_reply": "2025-07-07T20:58:07.241960Z",
     "shell.execute_reply.started": "2025-07-07T20:58:03.468043Z"
    }
   },
   "outputs": [],
   "source": [
    "obj_catalog = lsdb.open_catalog(\"/rubin/lincc_lsb_data/object_collection\")\n",
    "dia_catalog = lsdb.open_catalog(\"/rubin/lincc_lsb_data/dia_object_collection\")"
   ]
  },
  {
   "cell_type": "markdown",
   "id": "73183498-f142-49c9-bc35-4067982eb28d",
   "metadata": {},
   "source": [
    "When you open a catalog in LSDB using lsdb.open_catalog, it initializes the catalog by reading only its metadata and schema—not the actual data—unless explicitly requested. In this case, out of 1304 total columns in the catalog, only 42 have been loaded lazily, meaning LSDB has registered their existence and structure, but no data has been read from disk for those columns yet. This lazy-loading behavior improves performance and memory efficiency, especially when dealing with large catalogs, by deferring I/O operations until a computation or filtering action requires access to the actual column values."
   ]
  },
  {
   "cell_type": "code",
   "execution_count": 3,
   "id": "580a6bf2-2fe9-4729-9c81-5f7b0525d607",
   "metadata": {
    "execution": {
     "iopub.execute_input": "2025-07-07T20:58:07.243311Z",
     "iopub.status.busy": "2025-07-07T20:58:07.243108Z",
     "iopub.status.idle": "2025-07-07T20:58:07.279879Z",
     "shell.execute_reply": "2025-07-07T20:58:07.279274Z",
     "shell.execute_reply.started": "2025-07-07T20:58:07.243293Z"
    }
   },
   "outputs": [
    {
     "data": {
      "text/html": [
       "<div><strong>lsdb Catalog object_lc:</strong></div><div>\n",
       "<style scoped>\n",
       "    .dataframe tbody tr th:only-of-type {\n",
       "        vertical-align: middle;\n",
       "    }\n",
       "\n",
       "    .dataframe tbody tr th {\n",
       "        vertical-align: top;\n",
       "    }\n",
       "\n",
       "    .dataframe thead th {\n",
       "        text-align: right;\n",
       "    }\n",
       "</style>\n",
       "<table border=\"1\" class=\"dataframe\">\n",
       "  <thead>\n",
       "    <tr style=\"text-align: right;\">\n",
       "      <th></th>\n",
       "      <th>coord_dec</th>\n",
       "      <th>coord_decErr</th>\n",
       "      <th>coord_ra</th>\n",
       "      <th>coord_raErr</th>\n",
       "      <th>g_psfFlux</th>\n",
       "      <th>g_psfFluxErr</th>\n",
       "      <th>g_psfMag</th>\n",
       "      <th>g_psfMagErr</th>\n",
       "      <th>i_psfFlux</th>\n",
       "      <th>i_psfFluxErr</th>\n",
       "      <th>i_psfMag</th>\n",
       "      <th>i_psfMagErr</th>\n",
       "      <th>objectId</th>\n",
       "      <th>patch</th>\n",
       "      <th>r_psfFlux</th>\n",
       "      <th>r_psfFluxErr</th>\n",
       "      <th>r_psfMag</th>\n",
       "      <th>r_psfMagErr</th>\n",
       "      <th>refBand</th>\n",
       "      <th>refFwhm</th>\n",
       "      <th>shape_flag</th>\n",
       "      <th>shape_xx</th>\n",
       "      <th>shape_xy</th>\n",
       "      <th>shape_yy</th>\n",
       "      <th>tract</th>\n",
       "      <th>u_psfFlux</th>\n",
       "      <th>u_psfFluxErr</th>\n",
       "      <th>u_psfMag</th>\n",
       "      <th>u_psfMagErr</th>\n",
       "      <th>x</th>\n",
       "      <th>xErr</th>\n",
       "      <th>y</th>\n",
       "      <th>y_psfFlux</th>\n",
       "      <th>y_psfFluxErr</th>\n",
       "      <th>y_psfMag</th>\n",
       "      <th>y_psfMagErr</th>\n",
       "      <th>yErr</th>\n",
       "      <th>z_psfFlux</th>\n",
       "      <th>z_psfFluxErr</th>\n",
       "      <th>z_psfMag</th>\n",
       "      <th>z_psfMagErr</th>\n",
       "      <th>objectForcedSource</th>\n",
       "    </tr>\n",
       "    <tr>\n",
       "      <th>npartitions=389</th>\n",
       "      <th></th>\n",
       "      <th></th>\n",
       "      <th></th>\n",
       "      <th></th>\n",
       "      <th></th>\n",
       "      <th></th>\n",
       "      <th></th>\n",
       "      <th></th>\n",
       "      <th></th>\n",
       "      <th></th>\n",
       "      <th></th>\n",
       "      <th></th>\n",
       "      <th></th>\n",
       "      <th></th>\n",
       "      <th></th>\n",
       "      <th></th>\n",
       "      <th></th>\n",
       "      <th></th>\n",
       "      <th></th>\n",
       "      <th></th>\n",
       "      <th></th>\n",
       "      <th></th>\n",
       "      <th></th>\n",
       "      <th></th>\n",
       "      <th></th>\n",
       "      <th></th>\n",
       "      <th></th>\n",
       "      <th></th>\n",
       "      <th></th>\n",
       "      <th></th>\n",
       "      <th></th>\n",
       "      <th></th>\n",
       "      <th></th>\n",
       "      <th></th>\n",
       "      <th></th>\n",
       "      <th></th>\n",
       "      <th></th>\n",
       "      <th></th>\n",
       "      <th></th>\n",
       "      <th></th>\n",
       "      <th></th>\n",
       "      <th></th>\n",
       "    </tr>\n",
       "  </thead>\n",
       "  <tbody>\n",
       "    <tr>\n",
       "      <th>Order: 6, Pixel: 130</th>\n",
       "      <td>double[pyarrow]</td>\n",
       "      <td>float[pyarrow]</td>\n",
       "      <td>double[pyarrow]</td>\n",
       "      <td>float[pyarrow]</td>\n",
       "      <td>float[pyarrow]</td>\n",
       "      <td>float[pyarrow]</td>\n",
       "      <td>float[pyarrow]</td>\n",
       "      <td>float[pyarrow]</td>\n",
       "      <td>float[pyarrow]</td>\n",
       "      <td>float[pyarrow]</td>\n",
       "      <td>float[pyarrow]</td>\n",
       "      <td>float[pyarrow]</td>\n",
       "      <td>int64[pyarrow]</td>\n",
       "      <td>int64[pyarrow]</td>\n",
       "      <td>float[pyarrow]</td>\n",
       "      <td>float[pyarrow]</td>\n",
       "      <td>float[pyarrow]</td>\n",
       "      <td>float[pyarrow]</td>\n",
       "      <td>string[pyarrow]</td>\n",
       "      <td>float[pyarrow]</td>\n",
       "      <td>bool[pyarrow]</td>\n",
       "      <td>float[pyarrow]</td>\n",
       "      <td>float[pyarrow]</td>\n",
       "      <td>float[pyarrow]</td>\n",
       "      <td>int64[pyarrow]</td>\n",
       "      <td>float[pyarrow]</td>\n",
       "      <td>float[pyarrow]</td>\n",
       "      <td>float[pyarrow]</td>\n",
       "      <td>float[pyarrow]</td>\n",
       "      <td>double[pyarrow]</td>\n",
       "      <td>float[pyarrow]</td>\n",
       "      <td>double[pyarrow]</td>\n",
       "      <td>float[pyarrow]</td>\n",
       "      <td>float[pyarrow]</td>\n",
       "      <td>float[pyarrow]</td>\n",
       "      <td>float[pyarrow]</td>\n",
       "      <td>float[pyarrow]</td>\n",
       "      <td>float[pyarrow]</td>\n",
       "      <td>float[pyarrow]</td>\n",
       "      <td>float[pyarrow]</td>\n",
       "      <td>float[pyarrow]</td>\n",
       "      <td>nested&lt;coord_ra: [double], coord_dec: [double]...</td>\n",
       "    </tr>\n",
       "    <tr>\n",
       "      <th>Order: 8, Pixel: 2176</th>\n",
       "      <td>...</td>\n",
       "      <td>...</td>\n",
       "      <td>...</td>\n",
       "      <td>...</td>\n",
       "      <td>...</td>\n",
       "      <td>...</td>\n",
       "      <td>...</td>\n",
       "      <td>...</td>\n",
       "      <td>...</td>\n",
       "      <td>...</td>\n",
       "      <td>...</td>\n",
       "      <td>...</td>\n",
       "      <td>...</td>\n",
       "      <td>...</td>\n",
       "      <td>...</td>\n",
       "      <td>...</td>\n",
       "      <td>...</td>\n",
       "      <td>...</td>\n",
       "      <td>...</td>\n",
       "      <td>...</td>\n",
       "      <td>...</td>\n",
       "      <td>...</td>\n",
       "      <td>...</td>\n",
       "      <td>...</td>\n",
       "      <td>...</td>\n",
       "      <td>...</td>\n",
       "      <td>...</td>\n",
       "      <td>...</td>\n",
       "      <td>...</td>\n",
       "      <td>...</td>\n",
       "      <td>...</td>\n",
       "      <td>...</td>\n",
       "      <td>...</td>\n",
       "      <td>...</td>\n",
       "      <td>...</td>\n",
       "      <td>...</td>\n",
       "      <td>...</td>\n",
       "      <td>...</td>\n",
       "      <td>...</td>\n",
       "      <td>...</td>\n",
       "      <td>...</td>\n",
       "      <td>...</td>\n",
       "    </tr>\n",
       "    <tr>\n",
       "      <th>...</th>\n",
       "      <td>...</td>\n",
       "      <td>...</td>\n",
       "      <td>...</td>\n",
       "      <td>...</td>\n",
       "      <td>...</td>\n",
       "      <td>...</td>\n",
       "      <td>...</td>\n",
       "      <td>...</td>\n",
       "      <td>...</td>\n",
       "      <td>...</td>\n",
       "      <td>...</td>\n",
       "      <td>...</td>\n",
       "      <td>...</td>\n",
       "      <td>...</td>\n",
       "      <td>...</td>\n",
       "      <td>...</td>\n",
       "      <td>...</td>\n",
       "      <td>...</td>\n",
       "      <td>...</td>\n",
       "      <td>...</td>\n",
       "      <td>...</td>\n",
       "      <td>...</td>\n",
       "      <td>...</td>\n",
       "      <td>...</td>\n",
       "      <td>...</td>\n",
       "      <td>...</td>\n",
       "      <td>...</td>\n",
       "      <td>...</td>\n",
       "      <td>...</td>\n",
       "      <td>...</td>\n",
       "      <td>...</td>\n",
       "      <td>...</td>\n",
       "      <td>...</td>\n",
       "      <td>...</td>\n",
       "      <td>...</td>\n",
       "      <td>...</td>\n",
       "      <td>...</td>\n",
       "      <td>...</td>\n",
       "      <td>...</td>\n",
       "      <td>...</td>\n",
       "      <td>...</td>\n",
       "      <td>...</td>\n",
       "    </tr>\n",
       "    <tr>\n",
       "      <th>Order: 9, Pixel: 2302101</th>\n",
       "      <td>...</td>\n",
       "      <td>...</td>\n",
       "      <td>...</td>\n",
       "      <td>...</td>\n",
       "      <td>...</td>\n",
       "      <td>...</td>\n",
       "      <td>...</td>\n",
       "      <td>...</td>\n",
       "      <td>...</td>\n",
       "      <td>...</td>\n",
       "      <td>...</td>\n",
       "      <td>...</td>\n",
       "      <td>...</td>\n",
       "      <td>...</td>\n",
       "      <td>...</td>\n",
       "      <td>...</td>\n",
       "      <td>...</td>\n",
       "      <td>...</td>\n",
       "      <td>...</td>\n",
       "      <td>...</td>\n",
       "      <td>...</td>\n",
       "      <td>...</td>\n",
       "      <td>...</td>\n",
       "      <td>...</td>\n",
       "      <td>...</td>\n",
       "      <td>...</td>\n",
       "      <td>...</td>\n",
       "      <td>...</td>\n",
       "      <td>...</td>\n",
       "      <td>...</td>\n",
       "      <td>...</td>\n",
       "      <td>...</td>\n",
       "      <td>...</td>\n",
       "      <td>...</td>\n",
       "      <td>...</td>\n",
       "      <td>...</td>\n",
       "      <td>...</td>\n",
       "      <td>...</td>\n",
       "      <td>...</td>\n",
       "      <td>...</td>\n",
       "      <td>...</td>\n",
       "      <td>...</td>\n",
       "    </tr>\n",
       "    <tr>\n",
       "      <th>Order: 7, Pixel: 143884</th>\n",
       "      <td>...</td>\n",
       "      <td>...</td>\n",
       "      <td>...</td>\n",
       "      <td>...</td>\n",
       "      <td>...</td>\n",
       "      <td>...</td>\n",
       "      <td>...</td>\n",
       "      <td>...</td>\n",
       "      <td>...</td>\n",
       "      <td>...</td>\n",
       "      <td>...</td>\n",
       "      <td>...</td>\n",
       "      <td>...</td>\n",
       "      <td>...</td>\n",
       "      <td>...</td>\n",
       "      <td>...</td>\n",
       "      <td>...</td>\n",
       "      <td>...</td>\n",
       "      <td>...</td>\n",
       "      <td>...</td>\n",
       "      <td>...</td>\n",
       "      <td>...</td>\n",
       "      <td>...</td>\n",
       "      <td>...</td>\n",
       "      <td>...</td>\n",
       "      <td>...</td>\n",
       "      <td>...</td>\n",
       "      <td>...</td>\n",
       "      <td>...</td>\n",
       "      <td>...</td>\n",
       "      <td>...</td>\n",
       "      <td>...</td>\n",
       "      <td>...</td>\n",
       "      <td>...</td>\n",
       "      <td>...</td>\n",
       "      <td>...</td>\n",
       "      <td>...</td>\n",
       "      <td>...</td>\n",
       "      <td>...</td>\n",
       "      <td>...</td>\n",
       "      <td>...</td>\n",
       "      <td>...</td>\n",
       "    </tr>\n",
       "  </tbody>\n",
       "</table>\n",
       "</div><div>42 out of 1304 columns in the catalog have been loaded <strong>lazily</strong>, meaning no data has been read, only the catalog schema</div>"
      ],
      "text/plain": [
       "Dask NestedFrame Structure:\n",
       "                           coord_dec    coord_decErr         coord_ra     coord_raErr       g_psfFlux    g_psfFluxErr        g_psfMag     g_psfMagErr       i_psfFlux    i_psfFluxErr        i_psfMag     i_psfMagErr        objectId           patch       r_psfFlux    r_psfFluxErr        r_psfMag     r_psfMagErr          refBand         refFwhm     shape_flag        shape_xx        shape_xy        shape_yy           tract       u_psfFlux    u_psfFluxErr        u_psfMag     u_psfMagErr                x            xErr                y       y_psfFlux    y_psfFluxErr        y_psfMag     y_psfMagErr            yErr       z_psfFlux    z_psfFluxErr        z_psfMag     z_psfMagErr                                                                                                                                                                                                                                                                                                                                                                                                                                                                                                                                                                                                                                                                                objectForcedSource\n",
       "npartitions=389                                                                                                                                                                                                                                                                                                                                                                                                                                                                                                                                                                                                                                                                                                                                                                                                                                                                                                                                                                                                                                                                                                                                                                                                                                                                                                                                                                                          \n",
       "9147936743096320     double[pyarrow]  float[pyarrow]  double[pyarrow]  float[pyarrow]  float[pyarrow]  float[pyarrow]  float[pyarrow]  float[pyarrow]  float[pyarrow]  float[pyarrow]  float[pyarrow]  float[pyarrow]  int64[pyarrow]  int64[pyarrow]  float[pyarrow]  float[pyarrow]  float[pyarrow]  float[pyarrow]  string[pyarrow]  float[pyarrow]  bool[pyarrow]  float[pyarrow]  float[pyarrow]  float[pyarrow]  int64[pyarrow]  float[pyarrow]  float[pyarrow]  float[pyarrow]  float[pyarrow]  double[pyarrow]  float[pyarrow]  double[pyarrow]  float[pyarrow]  float[pyarrow]  float[pyarrow]  float[pyarrow]  float[pyarrow]  float[pyarrow]  float[pyarrow]  float[pyarrow]  float[pyarrow]  nested<coord_ra: [double], coord_dec: [double], visit: [int64], detector: [int16], band: [string], psfFlux: [float], psfFluxErr: [float], psfFlux_flag: [bool], psfDiffFlux: [float], psfDiffFluxErr: [float], psfDiffFlux_flag: [bool], pixelFlags_bad: [bool], pixelFlags_cr: [bool], pixelFlags_crCenter: [bool], pixelFlags_edge: [bool], pixelFlags_interpolated: [bool], pixelFlags_interpolatedCenter: [bool], pixelFlags_nodata: [bool], pixelFlags_saturated: [bool], pixelFlags_saturatedCenter: [bool], pixelFlags_suspect: [bool], pixelFlags_suspectCenter: [bool], invalidPsfFlag: [bool], forcedSourceId: [int64], psfMag: [float], psfMagErr: [float], midpointMjdTai: [double]>\n",
       "9570149208162304                 ...             ...              ...             ...             ...             ...             ...             ...             ...             ...             ...             ...             ...             ...             ...             ...             ...             ...              ...             ...            ...             ...             ...             ...             ...             ...             ...             ...             ...              ...             ...              ...             ...             ...             ...             ...             ...             ...             ...             ...             ...                                                                                                                                                                                                                                                                                                                                                                                                                                                                                                                                                                                                                                                                                               ...\n",
       "...                              ...             ...              ...             ...             ...             ...             ...             ...             ...             ...             ...             ...             ...             ...             ...             ...             ...             ...              ...             ...            ...             ...             ...             ...             ...             ...             ...             ...             ...              ...             ...              ...             ...             ...             ...             ...             ...             ...             ...             ...             ...                                                                                                                                                                                                                                                                                                                                                                                                                                                                                                                                                                                                                                                                                               ...\n",
       "2531234096814751744              ...             ...              ...             ...             ...             ...             ...             ...             ...             ...             ...             ...             ...             ...             ...             ...             ...             ...              ...             ...            ...             ...             ...             ...             ...             ...             ...             ...             ...              ...             ...              ...             ...             ...             ...             ...             ...             ...             ...             ...             ...                                                                                                                                                                                                                                                                                                                                                                                                                                                                                                                                                                                                                                                                                               ...\n",
       "2531251689000796160              ...             ...              ...             ...             ...             ...             ...             ...             ...             ...             ...             ...             ...             ...             ...             ...             ...             ...              ...             ...            ...             ...             ...             ...             ...             ...             ...             ...             ...              ...             ...              ...             ...             ...             ...             ...             ...             ...             ...             ...             ...                                                                                                                                                                                                                                                                                                                                                                                                                                                                                                                                                                                                                                                                                               ...\n",
       "Dask Name: nestedframe, 3 expressions\n",
       "Expr=MapPartitions(NestedFrame)"
      ]
     },
     "execution_count": 3,
     "metadata": {},
     "output_type": "execute_result"
    }
   ],
   "source": [
    "obj_catalog"
   ]
  },
  {
   "cell_type": "markdown",
   "id": "0c87f6fa",
   "metadata": {},
   "source": [
    "### Choose the variable objects"
   ]
  },
  {
   "cell_type": "markdown",
   "id": "edddfea0",
   "metadata": {},
   "source": [
    "We have a selection of 10 variable objects, which were found from previous analysis of forced photometry on science images. At this point we can consider these as object from a separate catalog that we have loaded."
   ]
  },
  {
   "cell_type": "code",
   "execution_count": 4,
   "id": "e37d323b",
   "metadata": {
    "execution": {
     "iopub.execute_input": "2025-07-07T20:58:07.280669Z",
     "iopub.status.busy": "2025-07-07T20:58:07.280477Z",
     "iopub.status.idle": "2025-07-07T20:58:12.385612Z",
     "shell.execute_reply": "2025-07-07T20:58:12.384946Z",
     "shell.execute_reply.started": "2025-07-07T20:58:07.280653Z"
    }
   },
   "outputs": [
    {
     "data": {
      "text/html": [
       "<div><strong>lsdb Catalog from_lsdb_dataframe:</strong></div><div>\n",
       "<style scoped>\n",
       "    .dataframe tbody tr th:only-of-type {\n",
       "        vertical-align: middle;\n",
       "    }\n",
       "\n",
       "    .dataframe tbody tr th {\n",
       "        vertical-align: top;\n",
       "    }\n",
       "\n",
       "    .dataframe thead th {\n",
       "        text-align: right;\n",
       "    }\n",
       "</style>\n",
       "<table border=\"1\" class=\"dataframe\">\n",
       "  <thead>\n",
       "    <tr style=\"text-align: right;\">\n",
       "      <th></th>\n",
       "      <th>index</th>\n",
       "      <th>ra</th>\n",
       "      <th>dec</th>\n",
       "      <th>period</th>\n",
       "    </tr>\n",
       "    <tr>\n",
       "      <th>npartitions=2</th>\n",
       "      <th></th>\n",
       "      <th></th>\n",
       "      <th></th>\n",
       "      <th></th>\n",
       "    </tr>\n",
       "  </thead>\n",
       "  <tbody>\n",
       "    <tr>\n",
       "      <th>Order: 2, Pixel: 80</th>\n",
       "      <td>int64[pyarrow]</td>\n",
       "      <td>double[pyarrow]</td>\n",
       "      <td>double[pyarrow]</td>\n",
       "      <td>double[pyarrow]</td>\n",
       "    </tr>\n",
       "    <tr>\n",
       "      <th>Order: 5, Pixel: 8582</th>\n",
       "      <td>...</td>\n",
       "      <td>...</td>\n",
       "      <td>...</td>\n",
       "      <td>...</td>\n",
       "    </tr>\n",
       "  </tbody>\n",
       "</table>\n",
       "</div><div>4 out of 4 columns in the catalog have been loaded <strong>lazily</strong>, meaning no data has been read, only the catalog schema</div>"
      ],
      "text/plain": [
       "Dask NestedFrame Structure:\n",
       "                              index               ra              dec           period\n",
       "npartitions=2                                                                         \n",
       "1441151880758558720  int64[pyarrow]  double[pyarrow]  double[pyarrow]  double[pyarrow]\n",
       "2415618250130849792             ...              ...              ...              ...\n",
       "2415899725107560448             ...              ...              ...              ...\n",
       "Dask Name: nestedframe, 3 expressions\n",
       "Expr=MapPartitions(NestedFrame)"
      ]
     },
     "execution_count": 4,
     "metadata": {},
     "output_type": "execute_result"
    }
   ],
   "source": [
    "variables_csv = \\\n",
    "\"\"\"ra,dec,period\n",
    "94.95546,-24.73952,0.12095\n",
    "95.30235,-25.27431,0.12248\n",
    "94.91626,-24.69648,0.12038\n",
    "95.12418,-25.04329,0.23554\n",
    "58.83506,-48.79122,0.56335\n",
    "94.92264,-25.23185,0.07672\n",
    "94.72086,-25.05767,0.17559\n",
    "94.97073,-25.13643,0.12048\n",
    "59.12997,-48.78522,0.11628\n",
    "94.72086,-25.05767,0.17554\n",
    "\"\"\"\n",
    "variables_df = pd.read_csv(StringIO(variables_csv)).reset_index()\n",
    "\n",
    "# Transform the DataFrame into a LSDB Catalog. Not necesarry to crossmatch, but to showcase the ability to do so.\n",
    "variables_catalog = lsdb.from_dataframe(variables_df)\n",
    "variables_catalog"
   ]
  },
  {
   "cell_type": "code",
   "execution_count": 5,
   "id": "bf54e8c3",
   "metadata": {
    "execution": {
     "iopub.execute_input": "2025-07-07T20:58:12.386637Z",
     "iopub.status.busy": "2025-07-07T20:58:12.386435Z",
     "iopub.status.idle": "2025-07-07T20:58:15.767757Z",
     "shell.execute_reply": "2025-07-07T20:58:15.767230Z",
     "shell.execute_reply.started": "2025-07-07T20:58:12.386619Z"
    }
   },
   "outputs": [],
   "source": [
    "XMATCH_RADIUS_ARCSEC = 0.2\n",
    "variable_object = variables_catalog.crossmatch(\n",
    "    obj_catalog, radius_arcsec=XMATCH_RADIUS_ARCSEC, suffixes=[\"_var\", \"_obj\"]\n",
    ")\n",
    "variable_dia = variables_catalog.crossmatch(\n",
    "    dia_catalog, radius_arcsec=XMATCH_RADIUS_ARCSEC, suffixes=[\"_var\", \"_dia\"]\n",
    ")\n",
    "# The result will have all the columns in obj_catalog suffixed with `_obj`,\n",
    "# all the columns in dia_catalog suffixed with `_dia`, as well as all the\n",
    "# columns in `variables_df` suffixed with `_var_obj`\n",
    "result = variable_object.join(\n",
    "    variable_dia, left_on=\"index_var\", right_on=\"index_var\", suffixes=[\"_obj\", \"_dia\"]\n",
    ")"
   ]
  },
  {
   "cell_type": "markdown",
   "id": "6f5c62a6",
   "metadata": {},
   "source": [
    "And apply filtering according to the quality flags:"
   ]
  },
  {
   "cell_type": "code",
   "execution_count": 6,
   "id": "97972128",
   "metadata": {
    "execution": {
     "iopub.execute_input": "2025-07-07T20:58:15.768567Z",
     "iopub.status.busy": "2025-07-07T20:58:15.768375Z",
     "iopub.status.idle": "2025-07-07T20:58:15.979894Z",
     "shell.execute_reply": "2025-07-07T20:58:15.979371Z",
     "shell.execute_reply.started": "2025-07-07T20:58:15.768549Z"
    }
   },
   "outputs": [
    {
     "data": {
      "text/html": [
       "<div><strong>lsdb Catalog from_lsdb_dataframe_x_object_lc:</strong></div><div>\n",
       "<style scoped>\n",
       "    .dataframe tbody tr th:only-of-type {\n",
       "        vertical-align: middle;\n",
       "    }\n",
       "\n",
       "    .dataframe tbody tr th {\n",
       "        vertical-align: top;\n",
       "    }\n",
       "\n",
       "    .dataframe thead th {\n",
       "        text-align: right;\n",
       "    }\n",
       "</style>\n",
       "<table border=\"1\" class=\"dataframe\">\n",
       "  <thead>\n",
       "    <tr style=\"text-align: right;\">\n",
       "      <th></th>\n",
       "      <th>index_var_obj</th>\n",
       "      <th>ra_var_obj</th>\n",
       "      <th>dec_var_obj</th>\n",
       "      <th>period_var_obj</th>\n",
       "      <th>coord_dec_obj_obj</th>\n",
       "      <th>coord_decErr_obj_obj</th>\n",
       "      <th>coord_ra_obj_obj</th>\n",
       "      <th>coord_raErr_obj_obj</th>\n",
       "      <th>g_psfFlux_obj_obj</th>\n",
       "      <th>g_psfFluxErr_obj_obj</th>\n",
       "      <th>g_psfMag_obj_obj</th>\n",
       "      <th>g_psfMagErr_obj_obj</th>\n",
       "      <th>i_psfFlux_obj_obj</th>\n",
       "      <th>i_psfFluxErr_obj_obj</th>\n",
       "      <th>i_psfMag_obj_obj</th>\n",
       "      <th>i_psfMagErr_obj_obj</th>\n",
       "      <th>objectId_obj_obj</th>\n",
       "      <th>patch_obj_obj</th>\n",
       "      <th>r_psfFlux_obj_obj</th>\n",
       "      <th>r_psfFluxErr_obj_obj</th>\n",
       "      <th>r_psfMag_obj_obj</th>\n",
       "      <th>r_psfMagErr_obj_obj</th>\n",
       "      <th>refBand_obj_obj</th>\n",
       "      <th>refFwhm_obj_obj</th>\n",
       "      <th>shape_flag_obj_obj</th>\n",
       "      <th>shape_xx_obj_obj</th>\n",
       "      <th>shape_xy_obj_obj</th>\n",
       "      <th>shape_yy_obj_obj</th>\n",
       "      <th>tract_obj_obj</th>\n",
       "      <th>u_psfFlux_obj_obj</th>\n",
       "      <th>u_psfFluxErr_obj_obj</th>\n",
       "      <th>u_psfMag_obj_obj</th>\n",
       "      <th>u_psfMagErr_obj_obj</th>\n",
       "      <th>x_obj_obj</th>\n",
       "      <th>xErr_obj_obj</th>\n",
       "      <th>y_obj_obj</th>\n",
       "      <th>y_psfFlux_obj_obj</th>\n",
       "      <th>y_psfFluxErr_obj_obj</th>\n",
       "      <th>y_psfMag_obj_obj</th>\n",
       "      <th>y_psfMagErr_obj_obj</th>\n",
       "      <th>yErr_obj_obj</th>\n",
       "      <th>z_psfFlux_obj_obj</th>\n",
       "      <th>z_psfFluxErr_obj_obj</th>\n",
       "      <th>z_psfMag_obj_obj</th>\n",
       "      <th>z_psfMagErr_obj_obj</th>\n",
       "      <th>objectForcedSource_obj_obj</th>\n",
       "      <th>_dist_arcsec_obj</th>\n",
       "      <th>index_var_dia</th>\n",
       "      <th>ra_var_dia</th>\n",
       "      <th>dec_var_dia</th>\n",
       "      <th>period_var_dia</th>\n",
       "      <th>dec_dia_dia</th>\n",
       "      <th>diaObjectId_dia_dia</th>\n",
       "      <th>nDiaSources_dia_dia</th>\n",
       "      <th>ra_dia_dia</th>\n",
       "      <th>radecMjdTai_dia_dia</th>\n",
       "      <th>tract_dia_dia</th>\n",
       "      <th>diaObjectForcedSource_dia_dia</th>\n",
       "      <th>diaSource_dia_dia</th>\n",
       "      <th>_dist_arcsec_dia</th>\n",
       "    </tr>\n",
       "    <tr>\n",
       "      <th>npartitions=8</th>\n",
       "      <th></th>\n",
       "      <th></th>\n",
       "      <th></th>\n",
       "      <th></th>\n",
       "      <th></th>\n",
       "      <th></th>\n",
       "      <th></th>\n",
       "      <th></th>\n",
       "      <th></th>\n",
       "      <th></th>\n",
       "      <th></th>\n",
       "      <th></th>\n",
       "      <th></th>\n",
       "      <th></th>\n",
       "      <th></th>\n",
       "      <th></th>\n",
       "      <th></th>\n",
       "      <th></th>\n",
       "      <th></th>\n",
       "      <th></th>\n",
       "      <th></th>\n",
       "      <th></th>\n",
       "      <th></th>\n",
       "      <th></th>\n",
       "      <th></th>\n",
       "      <th></th>\n",
       "      <th></th>\n",
       "      <th></th>\n",
       "      <th></th>\n",
       "      <th></th>\n",
       "      <th></th>\n",
       "      <th></th>\n",
       "      <th></th>\n",
       "      <th></th>\n",
       "      <th></th>\n",
       "      <th></th>\n",
       "      <th></th>\n",
       "      <th></th>\n",
       "      <th></th>\n",
       "      <th></th>\n",
       "      <th></th>\n",
       "      <th></th>\n",
       "      <th></th>\n",
       "      <th></th>\n",
       "      <th></th>\n",
       "      <th></th>\n",
       "      <th></th>\n",
       "      <th></th>\n",
       "      <th></th>\n",
       "      <th></th>\n",
       "      <th></th>\n",
       "      <th></th>\n",
       "      <th></th>\n",
       "      <th></th>\n",
       "      <th></th>\n",
       "      <th></th>\n",
       "      <th></th>\n",
       "      <th></th>\n",
       "      <th></th>\n",
       "      <th></th>\n",
       "    </tr>\n",
       "  </thead>\n",
       "  <tbody>\n",
       "    <tr>\n",
       "      <th>Order: 8, Pixel: 329721</th>\n",
       "      <td>int64[pyarrow]</td>\n",
       "      <td>double[pyarrow]</td>\n",
       "      <td>double[pyarrow]</td>\n",
       "      <td>double[pyarrow]</td>\n",
       "      <td>double[pyarrow]</td>\n",
       "      <td>float[pyarrow]</td>\n",
       "      <td>double[pyarrow]</td>\n",
       "      <td>float[pyarrow]</td>\n",
       "      <td>float[pyarrow]</td>\n",
       "      <td>float[pyarrow]</td>\n",
       "      <td>float[pyarrow]</td>\n",
       "      <td>float[pyarrow]</td>\n",
       "      <td>float[pyarrow]</td>\n",
       "      <td>float[pyarrow]</td>\n",
       "      <td>float[pyarrow]</td>\n",
       "      <td>float[pyarrow]</td>\n",
       "      <td>int64[pyarrow]</td>\n",
       "      <td>int64[pyarrow]</td>\n",
       "      <td>float[pyarrow]</td>\n",
       "      <td>float[pyarrow]</td>\n",
       "      <td>float[pyarrow]</td>\n",
       "      <td>float[pyarrow]</td>\n",
       "      <td>string[pyarrow]</td>\n",
       "      <td>float[pyarrow]</td>\n",
       "      <td>bool[pyarrow]</td>\n",
       "      <td>float[pyarrow]</td>\n",
       "      <td>float[pyarrow]</td>\n",
       "      <td>float[pyarrow]</td>\n",
       "      <td>int64[pyarrow]</td>\n",
       "      <td>float[pyarrow]</td>\n",
       "      <td>float[pyarrow]</td>\n",
       "      <td>float[pyarrow]</td>\n",
       "      <td>float[pyarrow]</td>\n",
       "      <td>double[pyarrow]</td>\n",
       "      <td>float[pyarrow]</td>\n",
       "      <td>double[pyarrow]</td>\n",
       "      <td>float[pyarrow]</td>\n",
       "      <td>float[pyarrow]</td>\n",
       "      <td>float[pyarrow]</td>\n",
       "      <td>float[pyarrow]</td>\n",
       "      <td>float[pyarrow]</td>\n",
       "      <td>float[pyarrow]</td>\n",
       "      <td>float[pyarrow]</td>\n",
       "      <td>float[pyarrow]</td>\n",
       "      <td>float[pyarrow]</td>\n",
       "      <td>nested&lt;coord_ra: [double], coord_dec: [double]...</td>\n",
       "      <td>double[pyarrow]</td>\n",
       "      <td>int64[pyarrow]</td>\n",
       "      <td>double[pyarrow]</td>\n",
       "      <td>double[pyarrow]</td>\n",
       "      <td>double[pyarrow]</td>\n",
       "      <td>double[pyarrow]</td>\n",
       "      <td>int64[pyarrow]</td>\n",
       "      <td>int64[pyarrow]</td>\n",
       "      <td>double[pyarrow]</td>\n",
       "      <td>double[pyarrow]</td>\n",
       "      <td>int64[pyarrow]</td>\n",
       "      <td>nested&lt;band: [string], coord_dec: [double], co...</td>\n",
       "      <td>nested&lt;band: [string], centroid_flag: [bool], ...</td>\n",
       "      <td>double[pyarrow]</td>\n",
       "    </tr>\n",
       "    <tr>\n",
       "      <th>Order: 9, Pixel: 1324352</th>\n",
       "      <td>...</td>\n",
       "      <td>...</td>\n",
       "      <td>...</td>\n",
       "      <td>...</td>\n",
       "      <td>...</td>\n",
       "      <td>...</td>\n",
       "      <td>...</td>\n",
       "      <td>...</td>\n",
       "      <td>...</td>\n",
       "      <td>...</td>\n",
       "      <td>...</td>\n",
       "      <td>...</td>\n",
       "      <td>...</td>\n",
       "      <td>...</td>\n",
       "      <td>...</td>\n",
       "      <td>...</td>\n",
       "      <td>...</td>\n",
       "      <td>...</td>\n",
       "      <td>...</td>\n",
       "      <td>...</td>\n",
       "      <td>...</td>\n",
       "      <td>...</td>\n",
       "      <td>...</td>\n",
       "      <td>...</td>\n",
       "      <td>...</td>\n",
       "      <td>...</td>\n",
       "      <td>...</td>\n",
       "      <td>...</td>\n",
       "      <td>...</td>\n",
       "      <td>...</td>\n",
       "      <td>...</td>\n",
       "      <td>...</td>\n",
       "      <td>...</td>\n",
       "      <td>...</td>\n",
       "      <td>...</td>\n",
       "      <td>...</td>\n",
       "      <td>...</td>\n",
       "      <td>...</td>\n",
       "      <td>...</td>\n",
       "      <td>...</td>\n",
       "      <td>...</td>\n",
       "      <td>...</td>\n",
       "      <td>...</td>\n",
       "      <td>...</td>\n",
       "      <td>...</td>\n",
       "      <td>...</td>\n",
       "      <td>...</td>\n",
       "      <td>...</td>\n",
       "      <td>...</td>\n",
       "      <td>...</td>\n",
       "      <td>...</td>\n",
       "      <td>...</td>\n",
       "      <td>...</td>\n",
       "      <td>...</td>\n",
       "      <td>...</td>\n",
       "      <td>...</td>\n",
       "      <td>...</td>\n",
       "      <td>...</td>\n",
       "      <td>...</td>\n",
       "      <td>...</td>\n",
       "    </tr>\n",
       "    <tr>\n",
       "      <th>...</th>\n",
       "      <td>...</td>\n",
       "      <td>...</td>\n",
       "      <td>...</td>\n",
       "      <td>...</td>\n",
       "      <td>...</td>\n",
       "      <td>...</td>\n",
       "      <td>...</td>\n",
       "      <td>...</td>\n",
       "      <td>...</td>\n",
       "      <td>...</td>\n",
       "      <td>...</td>\n",
       "      <td>...</td>\n",
       "      <td>...</td>\n",
       "      <td>...</td>\n",
       "      <td>...</td>\n",
       "      <td>...</td>\n",
       "      <td>...</td>\n",
       "      <td>...</td>\n",
       "      <td>...</td>\n",
       "      <td>...</td>\n",
       "      <td>...</td>\n",
       "      <td>...</td>\n",
       "      <td>...</td>\n",
       "      <td>...</td>\n",
       "      <td>...</td>\n",
       "      <td>...</td>\n",
       "      <td>...</td>\n",
       "      <td>...</td>\n",
       "      <td>...</td>\n",
       "      <td>...</td>\n",
       "      <td>...</td>\n",
       "      <td>...</td>\n",
       "      <td>...</td>\n",
       "      <td>...</td>\n",
       "      <td>...</td>\n",
       "      <td>...</td>\n",
       "      <td>...</td>\n",
       "      <td>...</td>\n",
       "      <td>...</td>\n",
       "      <td>...</td>\n",
       "      <td>...</td>\n",
       "      <td>...</td>\n",
       "      <td>...</td>\n",
       "      <td>...</td>\n",
       "      <td>...</td>\n",
       "      <td>...</td>\n",
       "      <td>...</td>\n",
       "      <td>...</td>\n",
       "      <td>...</td>\n",
       "      <td>...</td>\n",
       "      <td>...</td>\n",
       "      <td>...</td>\n",
       "      <td>...</td>\n",
       "      <td>...</td>\n",
       "      <td>...</td>\n",
       "      <td>...</td>\n",
       "      <td>...</td>\n",
       "      <td>...</td>\n",
       "      <td>...</td>\n",
       "      <td>...</td>\n",
       "    </tr>\n",
       "    <tr>\n",
       "      <th>Order: 9, Pixel: 2197038</th>\n",
       "      <td>...</td>\n",
       "      <td>...</td>\n",
       "      <td>...</td>\n",
       "      <td>...</td>\n",
       "      <td>...</td>\n",
       "      <td>...</td>\n",
       "      <td>...</td>\n",
       "      <td>...</td>\n",
       "      <td>...</td>\n",
       "      <td>...</td>\n",
       "      <td>...</td>\n",
       "      <td>...</td>\n",
       "      <td>...</td>\n",
       "      <td>...</td>\n",
       "      <td>...</td>\n",
       "      <td>...</td>\n",
       "      <td>...</td>\n",
       "      <td>...</td>\n",
       "      <td>...</td>\n",
       "      <td>...</td>\n",
       "      <td>...</td>\n",
       "      <td>...</td>\n",
       "      <td>...</td>\n",
       "      <td>...</td>\n",
       "      <td>...</td>\n",
       "      <td>...</td>\n",
       "      <td>...</td>\n",
       "      <td>...</td>\n",
       "      <td>...</td>\n",
       "      <td>...</td>\n",
       "      <td>...</td>\n",
       "      <td>...</td>\n",
       "      <td>...</td>\n",
       "      <td>...</td>\n",
       "      <td>...</td>\n",
       "      <td>...</td>\n",
       "      <td>...</td>\n",
       "      <td>...</td>\n",
       "      <td>...</td>\n",
       "      <td>...</td>\n",
       "      <td>...</td>\n",
       "      <td>...</td>\n",
       "      <td>...</td>\n",
       "      <td>...</td>\n",
       "      <td>...</td>\n",
       "      <td>...</td>\n",
       "      <td>...</td>\n",
       "      <td>...</td>\n",
       "      <td>...</td>\n",
       "      <td>...</td>\n",
       "      <td>...</td>\n",
       "      <td>...</td>\n",
       "      <td>...</td>\n",
       "      <td>...</td>\n",
       "      <td>...</td>\n",
       "      <td>...</td>\n",
       "      <td>...</td>\n",
       "      <td>...</td>\n",
       "      <td>...</td>\n",
       "      <td>...</td>\n",
       "    </tr>\n",
       "    <tr>\n",
       "      <th>Order: 9, Pixel: 2197120</th>\n",
       "      <td>...</td>\n",
       "      <td>...</td>\n",
       "      <td>...</td>\n",
       "      <td>...</td>\n",
       "      <td>...</td>\n",
       "      <td>...</td>\n",
       "      <td>...</td>\n",
       "      <td>...</td>\n",
       "      <td>...</td>\n",
       "      <td>...</td>\n",
       "      <td>...</td>\n",
       "      <td>...</td>\n",
       "      <td>...</td>\n",
       "      <td>...</td>\n",
       "      <td>...</td>\n",
       "      <td>...</td>\n",
       "      <td>...</td>\n",
       "      <td>...</td>\n",
       "      <td>...</td>\n",
       "      <td>...</td>\n",
       "      <td>...</td>\n",
       "      <td>...</td>\n",
       "      <td>...</td>\n",
       "      <td>...</td>\n",
       "      <td>...</td>\n",
       "      <td>...</td>\n",
       "      <td>...</td>\n",
       "      <td>...</td>\n",
       "      <td>...</td>\n",
       "      <td>...</td>\n",
       "      <td>...</td>\n",
       "      <td>...</td>\n",
       "      <td>...</td>\n",
       "      <td>...</td>\n",
       "      <td>...</td>\n",
       "      <td>...</td>\n",
       "      <td>...</td>\n",
       "      <td>...</td>\n",
       "      <td>...</td>\n",
       "      <td>...</td>\n",
       "      <td>...</td>\n",
       "      <td>...</td>\n",
       "      <td>...</td>\n",
       "      <td>...</td>\n",
       "      <td>...</td>\n",
       "      <td>...</td>\n",
       "      <td>...</td>\n",
       "      <td>...</td>\n",
       "      <td>...</td>\n",
       "      <td>...</td>\n",
       "      <td>...</td>\n",
       "      <td>...</td>\n",
       "      <td>...</td>\n",
       "      <td>...</td>\n",
       "      <td>...</td>\n",
       "      <td>...</td>\n",
       "      <td>...</td>\n",
       "      <td>...</td>\n",
       "      <td>...</td>\n",
       "      <td>...</td>\n",
       "    </tr>\n",
       "  </tbody>\n",
       "</table>\n",
       "</div><div>60 out of 60 columns in the catalog have been loaded <strong>lazily</strong>, meaning no data has been read, only the catalog schema</div>"
      ],
      "text/plain": [
       "Dask NestedFrame Structure:\n",
       "                      index_var_obj       ra_var_obj      dec_var_obj   period_var_obj coord_dec_obj_obj coord_decErr_obj_obj coord_ra_obj_obj coord_raErr_obj_obj g_psfFlux_obj_obj g_psfFluxErr_obj_obj g_psfMag_obj_obj g_psfMagErr_obj_obj i_psfFlux_obj_obj i_psfFluxErr_obj_obj i_psfMag_obj_obj i_psfMagErr_obj_obj objectId_obj_obj   patch_obj_obj r_psfFlux_obj_obj r_psfFluxErr_obj_obj r_psfMag_obj_obj r_psfMagErr_obj_obj  refBand_obj_obj refFwhm_obj_obj shape_flag_obj_obj shape_xx_obj_obj shape_xy_obj_obj shape_yy_obj_obj   tract_obj_obj u_psfFlux_obj_obj u_psfFluxErr_obj_obj u_psfMag_obj_obj u_psfMagErr_obj_obj        x_obj_obj    xErr_obj_obj        y_obj_obj y_psfFlux_obj_obj y_psfFluxErr_obj_obj y_psfMag_obj_obj y_psfMagErr_obj_obj    yErr_obj_obj z_psfFlux_obj_obj z_psfFluxErr_obj_obj z_psfMag_obj_obj z_psfMagErr_obj_obj                                                                                                                                                                                                                                                                                                                                                                                                                                                                                                                                                                                                                                                                        objectForcedSource_obj_obj _dist_arcsec_obj   index_var_dia       ra_var_dia      dec_var_dia   period_var_dia      dec_dia_dia diaObjectId_dia_dia nDiaSources_dia_dia       ra_dia_dia radecMjdTai_dia_dia   tract_dia_dia                                                                                                                                                                                                                                                                                                                                                                                                                                                                                                                                                                                                                                                                                                   diaObjectForcedSource_dia_dia                                                                                                                                                                                                                                                                                                                                                                                                                                                                                                                                                                                                                                                                                                                                                                                                                                                                                                                                                                                                                                                                                                                                                                                                                                                                                                           diaSource_dia_dia _dist_arcsec_dia\n",
       "npartitions=8                                                                                                                                                                                                                                                                                                                                                                                                                                                                                                                                                                                                                                                                                                                                                                                                                                                                                                                                                                                                                                                                                                                                                                                                                                                                                                                                                                                                                                                                                                                                                                                                                                                                                                                                                                                                                                                                                                                                                                                                                                                                                                                                                                                                                                                                                                                                                                                                                                                                                                                                                                                                                                                                                                                                                                                                                                                                                                                                                                                                                                                                                                                                                                                                                                                                                                                                                                                                                                                                                                                                                                                                                                                                                                                                                                                                                                        \n",
       "1450128293687721984  int64[pyarrow]  double[pyarrow]  double[pyarrow]  double[pyarrow]   double[pyarrow]       float[pyarrow]  double[pyarrow]      float[pyarrow]    float[pyarrow]       float[pyarrow]   float[pyarrow]      float[pyarrow]    float[pyarrow]       float[pyarrow]   float[pyarrow]      float[pyarrow]   int64[pyarrow]  int64[pyarrow]    float[pyarrow]       float[pyarrow]   float[pyarrow]      float[pyarrow]  string[pyarrow]  float[pyarrow]      bool[pyarrow]   float[pyarrow]   float[pyarrow]   float[pyarrow]  int64[pyarrow]    float[pyarrow]       float[pyarrow]   float[pyarrow]      float[pyarrow]  double[pyarrow]  float[pyarrow]  double[pyarrow]    float[pyarrow]       float[pyarrow]   float[pyarrow]      float[pyarrow]  float[pyarrow]    float[pyarrow]       float[pyarrow]   float[pyarrow]      float[pyarrow]  nested<coord_ra: [double], coord_dec: [double], visit: [int64], detector: [int16], band: [string], psfFlux: [float], psfFluxErr: [float], psfFlux_flag: [bool], psfDiffFlux: [float], psfDiffFluxErr: [float], psfDiffFlux_flag: [bool], pixelFlags_bad: [bool], pixelFlags_cr: [bool], pixelFlags_crCenter: [bool], pixelFlags_edge: [bool], pixelFlags_interpolated: [bool], pixelFlags_interpolatedCenter: [bool], pixelFlags_nodata: [bool], pixelFlags_saturated: [bool], pixelFlags_saturatedCenter: [bool], pixelFlags_suspect: [bool], pixelFlags_suspectCenter: [bool], invalidPsfFlag: [bool], forcedSourceId: [int64], psfMag: [float], psfMagErr: [float], midpointMjdTai: [double]>  double[pyarrow]  int64[pyarrow]  double[pyarrow]  double[pyarrow]  double[pyarrow]  double[pyarrow]      int64[pyarrow]      int64[pyarrow]  double[pyarrow]     double[pyarrow]  int64[pyarrow]  nested<band: [string], coord_dec: [double], coord_ra: [double], diff_PixelFlags_nodataCenter: [bool], forcedSourceOnDiaObjectId: [int64], invalidPsfFlag: [bool], midpointMjdTai: [double], pixelFlags_bad: [bool], pixelFlags_cr: [bool], pixelFlags_crCenter: [bool], pixelFlags_edge: [bool], pixelFlags_interpolated: [bool], pixelFlags_interpolatedCenter: [bool], pixelFlags_nodata: [bool], pixelFlags_saturated: [bool], pixelFlags_saturatedCenter: [bool], pixelFlags_suspect: [bool], pixelFlags_suspectCenter: [bool], psfDiffFlux: [float], psfDiffFlux_flag: [bool], psfDiffFluxErr: [float], psfFlux: [float], psfFlux_flag: [bool], psfFluxErr: [float], psfMag: [float], psfMagErr: [float], visit: [int64]>  nested<band: [string], centroid_flag: [bool], coord_dec: [double], coord_ra: [double], dec: [double], decErr: [float], diaSourceId: [int64], forced_PsfFlux_flag: [bool], forced_PsfFlux_flag_edge: [bool], forced_PsfFlux_flag_noGoodPixels: [bool], midpointMjdTai: [double], pixelFlags: [bool], pixelFlags_bad: [bool], pixelFlags_cr: [bool], pixelFlags_crCenter: [bool], pixelFlags_edge: [bool], pixelFlags_interpolated: [bool], pixelFlags_interpolatedCenter: [bool], pixelFlags_nodata: [bool], pixelFlags_nodataCenter: [bool], pixelFlags_offimage: [bool], pixelFlags_saturated: [bool], pixelFlags_saturatedCenter: [bool], pixelFlags_streak: [bool], pixelFlags_streakCenter: [bool], pixelFlags_suspect: [bool], pixelFlags_suspectCenter: [bool], psfFlux: [float], psfFlux_flag: [bool], psfFlux_flag_edge: [bool], psfFlux_flag_noGoodPixels: [bool], psfFluxErr: [float], psfMag: [float], psfMagErr: [float], ra: [double], raErr: [float], reliability: [float], scienceFlux: [float], scienceFluxErr: [float], scienceMag: [float], scienceMagErr: [float], shape_flag: [bool], shape_flag_no_pixels: [bool], shape_flag_not_contained: [bool], shape_flag_parent_source: [bool], snr: [float], trail_flag_edge: [bool], visit: [int64], x: [double], xErr: [float], y: [double], yErr: [float]>  double[pyarrow]\n",
       "1456140423268401152             ...              ...              ...              ...               ...                  ...              ...                 ...               ...                  ...              ...                 ...               ...                  ...              ...                 ...              ...             ...               ...                  ...              ...                 ...              ...             ...                ...              ...              ...              ...             ...               ...                  ...              ...                 ...              ...             ...              ...               ...                  ...              ...                 ...             ...               ...                  ...              ...                 ...                                                                                                                                                                                                                                                                                                                                                                                                                                                                                                                                                                                                                                                                                               ...              ...             ...              ...              ...              ...              ...                 ...                 ...              ...                 ...             ...                                                                                                                                                                                                                                                                                                                                                                                                                                                                                                                                                                                                                                                                                                                             ...                                                                                                                                                                                                                                                                                                                                                                                                                                                                                                                                                                                                                                                                                                                                                                                                                                                                                                                                                                                                                                                                                                                                                                                                                                                                                                                         ...              ...\n",
       "...                             ...              ...              ...              ...               ...                  ...              ...                 ...               ...                  ...              ...                 ...               ...                  ...              ...                 ...              ...             ...               ...                  ...              ...                 ...              ...             ...                ...              ...              ...              ...             ...               ...                  ...              ...                 ...              ...             ...              ...               ...                  ...              ...                 ...             ...               ...                  ...              ...                 ...                                                                                                                                                                                                                                                                                                                                                                                                                                                                                                                                                                                                                                                                                               ...              ...             ...              ...              ...              ...              ...                 ...                 ...              ...                 ...             ...                                                                                                                                                                                                                                                                                                                                                                                                                                                                                                                                                                                                                                                                                                                             ...                                                                                                                                                                                                                                                                                                                                                                                                                                                                                                                                                                                                                                                                                                                                                                                                                                                                                                                                                                                                                                                                                                                                                                                                                                                                                                                         ...              ...\n",
       "2415758987619205120             ...              ...              ...              ...               ...                  ...              ...                 ...               ...                  ...              ...                 ...               ...                  ...              ...                 ...              ...             ...               ...                  ...              ...                 ...              ...             ...                ...              ...              ...              ...             ...               ...                  ...              ...                 ...              ...             ...              ...               ...                  ...              ...                 ...             ...               ...                  ...              ...                 ...                                                                                                                                                                                                                                                                                                                                                                                                                                                                                                                                                                                                                                                                                               ...              ...             ...              ...              ...              ...              ...                 ...                 ...              ...                 ...             ...                                                                                                                                                                                                                                                                                                                                                                                                                                                                                                                                                                                                                                                                                                                             ...                                                                                                                                                                                                                                                                                                                                                                                                                                                                                                                                                                                                                                                                                                                                                                                                                                                                                                                                                                                                                                                                                                                                                                                                                                                                                                                         ...              ...\n",
       "2415760087130832896             ...              ...              ...              ...               ...                  ...              ...                 ...               ...                  ...              ...                 ...               ...                  ...              ...                 ...              ...             ...               ...                  ...              ...                 ...              ...             ...                ...              ...              ...              ...             ...               ...                  ...              ...                 ...              ...             ...              ...               ...                  ...              ...                 ...             ...               ...                  ...              ...                 ...                                                                                                                                                                                                                                                                                                                                                                                                                                                                                                                                                                                                                                                                                               ...              ...             ...              ...              ...              ...              ...                 ...                 ...              ...                 ...             ...                                                                                                                                                                                                                                                                                                                                                                                                                                                                                                                                                                                                                                                                                                                             ...                                                                                                                                                                                                                                                                                                                                                                                                                                                                                                                                                                                                                                                                                                                                                                                                                                                                                                                                                                                                                                                                                                                                                                                                                                                                                                                         ...              ...\n",
       "Dask Name: lambda, 6 expressions\n",
       "Expr=MapPartitions(lambda)"
      ]
     },
     "execution_count": 6,
     "metadata": {},
     "output_type": "execute_result"
    }
   ],
   "source": [
    "for column in [\"objectForcedSource_obj\", \"diaSource_dia\", \"diaObjectForcedSource_dia\"]:\n",
    "    result = result.query(\n",
    "        f\"~{column}.psfFlux_flag\"\n",
    "        f\" and ~{column}.pixelFlags_saturated\"\n",
    "        f\" and ~{column}.pixelFlags_cr\"\n",
    "        f\" and ~{column}.pixelFlags_bad\"\n",
    "    )\n",
    "result"
   ]
  },
  {
   "cell_type": "code",
   "execution_count": 7,
   "id": "14fe7d3c-159c-4f18-9149-1391870da818",
   "metadata": {
    "execution": {
     "iopub.execute_input": "2025-07-07T20:58:15.980684Z",
     "iopub.status.busy": "2025-07-07T20:58:15.980493Z",
     "iopub.status.idle": "2025-07-07T20:58:28.199046Z",
     "shell.execute_reply": "2025-07-07T20:58:28.198091Z",
     "shell.execute_reply.started": "2025-07-07T20:58:15.980667Z"
    }
   },
   "outputs": [
    {
     "data": {
      "text/html": [
       "<pre style=\"margin: 0.1em;\n",
       "padding-left: 0.25em;\n",
       "border-left-style: solid;\n",
       "font-family: var(--jp-code-font-family);\n",
       "font-size: var(--jp-code-font-size);\n",
       "line-height: var(--jp-code-line-height);\n",
       "\"><span style=\"color: var(--jp-warn-color2)\">distributed.scheduler</span> <span style=\"color: var(--jp-info-color0)\">INFO</span>: State start</pre>"
      ],
      "text/plain": [
       "<IPython.core.display.HTML object>"
      ]
     },
     "metadata": {},
     "output_type": "display_data"
    },
    {
     "data": {
      "text/html": [
       "<pre style=\"margin: 0.1em;\n",
       "padding-left: 0.25em;\n",
       "border-left-style: solid;\n",
       "font-family: var(--jp-code-font-family);\n",
       "font-size: var(--jp-code-font-size);\n",
       "line-height: var(--jp-code-line-height);\n",
       "\"><span style=\"color: var(--jp-warn-color2)\">distributed.scheduler</span> <span style=\"color: var(--jp-info-color0)\">INFO</span>:   Scheduler at:     tcp://127.0.0.1:33509</pre>"
      ],
      "text/plain": [
       "<IPython.core.display.HTML object>"
      ]
     },
     "metadata": {},
     "output_type": "display_data"
    },
    {
     "data": {
      "text/html": [
       "<pre style=\"margin: 0.1em;\n",
       "padding-left: 0.25em;\n",
       "border-left-style: solid;\n",
       "font-family: var(--jp-code-font-family);\n",
       "font-size: var(--jp-code-font-size);\n",
       "line-height: var(--jp-code-line-height);\n",
       "\"><span style=\"color: var(--jp-warn-color2)\">distributed.scheduler</span> <span style=\"color: var(--jp-info-color0)\">INFO</span>:   dashboard at:  https://data.lsst.cloud/nb/user/nevencaplar/proxy/36205/status</pre>"
      ],
      "text/plain": [
       "<IPython.core.display.HTML object>"
      ]
     },
     "metadata": {},
     "output_type": "display_data"
    },
    {
     "data": {
      "text/html": [
       "<pre style=\"margin: 0.1em;\n",
       "padding-left: 0.25em;\n",
       "border-left-style: solid;\n",
       "font-family: var(--jp-code-font-family);\n",
       "font-size: var(--jp-code-font-size);\n",
       "line-height: var(--jp-code-line-height);\n",
       "\"><span style=\"color: var(--jp-warn-color2)\">distributed.scheduler</span> <span style=\"color: var(--jp-info-color0)\">INFO</span>: Registering Worker plugin shuffle</pre>"
      ],
      "text/plain": [
       "<IPython.core.display.HTML object>"
      ]
     },
     "metadata": {},
     "output_type": "display_data"
    },
    {
     "data": {
      "text/html": [
       "<pre style=\"margin: 0.1em;\n",
       "padding-left: 0.25em;\n",
       "border-left-style: solid;\n",
       "font-family: var(--jp-code-font-family);\n",
       "font-size: var(--jp-code-font-size);\n",
       "line-height: var(--jp-code-line-height);\n",
       "\"><span style=\"color: var(--jp-warn-color2)\">distributed.nanny</span> <span style=\"color: var(--jp-info-color0)\">INFO</span>:         Start Nanny at: &#x27;tcp://127.0.0.1:42041&#x27;</pre>"
      ],
      "text/plain": [
       "<IPython.core.display.HTML object>"
      ]
     },
     "metadata": {},
     "output_type": "display_data"
    },
    {
     "data": {
      "text/html": [
       "<pre style=\"margin: 0.1em;\n",
       "padding-left: 0.25em;\n",
       "border-left-style: solid;\n",
       "font-family: var(--jp-code-font-family);\n",
       "font-size: var(--jp-code-font-size);\n",
       "line-height: var(--jp-code-line-height);\n",
       "\"><span style=\"color: var(--jp-warn-color2)\">distributed.nanny</span> <span style=\"color: var(--jp-info-color0)\">INFO</span>:         Start Nanny at: &#x27;tcp://127.0.0.1:40683&#x27;</pre>"
      ],
      "text/plain": [
       "<IPython.core.display.HTML object>"
      ]
     },
     "metadata": {},
     "output_type": "display_data"
    },
    {
     "data": {
      "text/html": [
       "<pre style=\"margin: 0.1em;\n",
       "padding-left: 0.25em;\n",
       "border-left-style: solid;\n",
       "font-family: var(--jp-code-font-family);\n",
       "font-size: var(--jp-code-font-size);\n",
       "line-height: var(--jp-code-line-height);\n",
       "\"><span style=\"color: var(--jp-warn-color2)\">distributed.nanny</span> <span style=\"color: var(--jp-info-color0)\">INFO</span>:         Start Nanny at: &#x27;tcp://127.0.0.1:37863&#x27;</pre>"
      ],
      "text/plain": [
       "<IPython.core.display.HTML object>"
      ]
     },
     "metadata": {},
     "output_type": "display_data"
    },
    {
     "data": {
      "text/html": [
       "<pre style=\"margin: 0.1em;\n",
       "padding-left: 0.25em;\n",
       "border-left-style: solid;\n",
       "font-family: var(--jp-code-font-family);\n",
       "font-size: var(--jp-code-font-size);\n",
       "line-height: var(--jp-code-line-height);\n",
       "\"><span style=\"color: var(--jp-warn-color2)\">distributed.nanny</span> <span style=\"color: var(--jp-info-color0)\">INFO</span>:         Start Nanny at: &#x27;tcp://127.0.0.1:41829&#x27;</pre>"
      ],
      "text/plain": [
       "<IPython.core.display.HTML object>"
      ]
     },
     "metadata": {},
     "output_type": "display_data"
    },
    {
     "data": {
      "text/html": [
       "<pre style=\"margin: 0.1em;\n",
       "padding-left: 0.25em;\n",
       "border-left-style: solid;\n",
       "font-family: var(--jp-code-font-family);\n",
       "font-size: var(--jp-code-font-size);\n",
       "line-height: var(--jp-code-line-height);\n",
       "\"><span style=\"color: var(--jp-warn-color2)\">distributed.scheduler</span> <span style=\"color: var(--jp-info-color0)\">INFO</span>: Register worker addr: tcp://127.0.0.1:34893 name: 0</pre>"
      ],
      "text/plain": [
       "<IPython.core.display.HTML object>"
      ]
     },
     "metadata": {},
     "output_type": "display_data"
    },
    {
     "data": {
      "text/html": [
       "<pre style=\"margin: 0.1em;\n",
       "padding-left: 0.25em;\n",
       "border-left-style: solid;\n",
       "font-family: var(--jp-code-font-family);\n",
       "font-size: var(--jp-code-font-size);\n",
       "line-height: var(--jp-code-line-height);\n",
       "\"><span style=\"color: var(--jp-warn-color2)\">distributed.scheduler</span> <span style=\"color: var(--jp-info-color0)\">INFO</span>: Starting worker compute stream, tcp://127.0.0.1:34893</pre>"
      ],
      "text/plain": [
       "<IPython.core.display.HTML object>"
      ]
     },
     "metadata": {},
     "output_type": "display_data"
    },
    {
     "data": {
      "text/html": [
       "<pre style=\"margin: 0.1em;\n",
       "padding-left: 0.25em;\n",
       "border-left-style: solid;\n",
       "font-family: var(--jp-code-font-family);\n",
       "font-size: var(--jp-code-font-size);\n",
       "line-height: var(--jp-code-line-height);\n",
       "\"><span style=\"color: var(--jp-warn-color2)\">distributed.core</span> <span style=\"color: var(--jp-info-color0)\">INFO</span>: Starting established connection to tcp://127.0.0.1:58120</pre>"
      ],
      "text/plain": [
       "<IPython.core.display.HTML object>"
      ]
     },
     "metadata": {},
     "output_type": "display_data"
    },
    {
     "data": {
      "text/html": [
       "<pre style=\"margin: 0.1em;\n",
       "padding-left: 0.25em;\n",
       "border-left-style: solid;\n",
       "font-family: var(--jp-code-font-family);\n",
       "font-size: var(--jp-code-font-size);\n",
       "line-height: var(--jp-code-line-height);\n",
       "\"><span style=\"color: var(--jp-warn-color2)\">distributed.scheduler</span> <span style=\"color: var(--jp-info-color0)\">INFO</span>: Register worker addr: tcp://127.0.0.1:43431 name: 2</pre>"
      ],
      "text/plain": [
       "<IPython.core.display.HTML object>"
      ]
     },
     "metadata": {},
     "output_type": "display_data"
    },
    {
     "data": {
      "text/html": [
       "<pre style=\"margin: 0.1em;\n",
       "padding-left: 0.25em;\n",
       "border-left-style: solid;\n",
       "font-family: var(--jp-code-font-family);\n",
       "font-size: var(--jp-code-font-size);\n",
       "line-height: var(--jp-code-line-height);\n",
       "\"><span style=\"color: var(--jp-warn-color2)\">distributed.scheduler</span> <span style=\"color: var(--jp-info-color0)\">INFO</span>: Starting worker compute stream, tcp://127.0.0.1:43431</pre>"
      ],
      "text/plain": [
       "<IPython.core.display.HTML object>"
      ]
     },
     "metadata": {},
     "output_type": "display_data"
    },
    {
     "data": {
      "text/html": [
       "<pre style=\"margin: 0.1em;\n",
       "padding-left: 0.25em;\n",
       "border-left-style: solid;\n",
       "font-family: var(--jp-code-font-family);\n",
       "font-size: var(--jp-code-font-size);\n",
       "line-height: var(--jp-code-line-height);\n",
       "\"><span style=\"color: var(--jp-warn-color2)\">distributed.core</span> <span style=\"color: var(--jp-info-color0)\">INFO</span>: Starting established connection to tcp://127.0.0.1:58128</pre>"
      ],
      "text/plain": [
       "<IPython.core.display.HTML object>"
      ]
     },
     "metadata": {},
     "output_type": "display_data"
    },
    {
     "data": {
      "text/html": [
       "<pre style=\"margin: 0.1em;\n",
       "padding-left: 0.25em;\n",
       "border-left-style: solid;\n",
       "font-family: var(--jp-code-font-family);\n",
       "font-size: var(--jp-code-font-size);\n",
       "line-height: var(--jp-code-line-height);\n",
       "\"><span style=\"color: var(--jp-warn-color2)\">distributed.scheduler</span> <span style=\"color: var(--jp-info-color0)\">INFO</span>: Register worker addr: tcp://127.0.0.1:46521 name: 3</pre>"
      ],
      "text/plain": [
       "<IPython.core.display.HTML object>"
      ]
     },
     "metadata": {},
     "output_type": "display_data"
    },
    {
     "data": {
      "text/html": [
       "<pre style=\"margin: 0.1em;\n",
       "padding-left: 0.25em;\n",
       "border-left-style: solid;\n",
       "font-family: var(--jp-code-font-family);\n",
       "font-size: var(--jp-code-font-size);\n",
       "line-height: var(--jp-code-line-height);\n",
       "\"><span style=\"color: var(--jp-warn-color2)\">distributed.scheduler</span> <span style=\"color: var(--jp-info-color0)\">INFO</span>: Starting worker compute stream, tcp://127.0.0.1:46521</pre>"
      ],
      "text/plain": [
       "<IPython.core.display.HTML object>"
      ]
     },
     "metadata": {},
     "output_type": "display_data"
    },
    {
     "data": {
      "text/html": [
       "<pre style=\"margin: 0.1em;\n",
       "padding-left: 0.25em;\n",
       "border-left-style: solid;\n",
       "font-family: var(--jp-code-font-family);\n",
       "font-size: var(--jp-code-font-size);\n",
       "line-height: var(--jp-code-line-height);\n",
       "\"><span style=\"color: var(--jp-warn-color2)\">distributed.core</span> <span style=\"color: var(--jp-info-color0)\">INFO</span>: Starting established connection to tcp://127.0.0.1:58132</pre>"
      ],
      "text/plain": [
       "<IPython.core.display.HTML object>"
      ]
     },
     "metadata": {},
     "output_type": "display_data"
    },
    {
     "data": {
      "text/html": [
       "<pre style=\"margin: 0.1em;\n",
       "padding-left: 0.25em;\n",
       "border-left-style: solid;\n",
       "font-family: var(--jp-code-font-family);\n",
       "font-size: var(--jp-code-font-size);\n",
       "line-height: var(--jp-code-line-height);\n",
       "\"><span style=\"color: var(--jp-warn-color2)\">distributed.scheduler</span> <span style=\"color: var(--jp-info-color0)\">INFO</span>: Register worker addr: tcp://127.0.0.1:45941 name: 1</pre>"
      ],
      "text/plain": [
       "<IPython.core.display.HTML object>"
      ]
     },
     "metadata": {},
     "output_type": "display_data"
    },
    {
     "data": {
      "text/html": [
       "<pre style=\"margin: 0.1em;\n",
       "padding-left: 0.25em;\n",
       "border-left-style: solid;\n",
       "font-family: var(--jp-code-font-family);\n",
       "font-size: var(--jp-code-font-size);\n",
       "line-height: var(--jp-code-line-height);\n",
       "\"><span style=\"color: var(--jp-warn-color2)\">distributed.scheduler</span> <span style=\"color: var(--jp-info-color0)\">INFO</span>: Starting worker compute stream, tcp://127.0.0.1:45941</pre>"
      ],
      "text/plain": [
       "<IPython.core.display.HTML object>"
      ]
     },
     "metadata": {},
     "output_type": "display_data"
    },
    {
     "data": {
      "text/html": [
       "<pre style=\"margin: 0.1em;\n",
       "padding-left: 0.25em;\n",
       "border-left-style: solid;\n",
       "font-family: var(--jp-code-font-family);\n",
       "font-size: var(--jp-code-font-size);\n",
       "line-height: var(--jp-code-line-height);\n",
       "\"><span style=\"color: var(--jp-warn-color2)\">distributed.core</span> <span style=\"color: var(--jp-info-color0)\">INFO</span>: Starting established connection to tcp://127.0.0.1:58140</pre>"
      ],
      "text/plain": [
       "<IPython.core.display.HTML object>"
      ]
     },
     "metadata": {},
     "output_type": "display_data"
    },
    {
     "data": {
      "text/html": [
       "<pre style=\"margin: 0.1em;\n",
       "padding-left: 0.25em;\n",
       "border-left-style: solid;\n",
       "font-family: var(--jp-code-font-family);\n",
       "font-size: var(--jp-code-font-size);\n",
       "line-height: var(--jp-code-line-height);\n",
       "\"><span style=\"color: var(--jp-warn-color2)\">distributed.scheduler</span> <span style=\"color: var(--jp-info-color0)\">INFO</span>: Receive client connection: Client-1a58d2e5-5b75-11f0-b99b-f2a1212b9dba</pre>"
      ],
      "text/plain": [
       "<IPython.core.display.HTML object>"
      ]
     },
     "metadata": {},
     "output_type": "display_data"
    },
    {
     "data": {
      "text/html": [
       "<pre style=\"margin: 0.1em;\n",
       "padding-left: 0.25em;\n",
       "border-left-style: solid;\n",
       "font-family: var(--jp-code-font-family);\n",
       "font-size: var(--jp-code-font-size);\n",
       "line-height: var(--jp-code-line-height);\n",
       "\"><span style=\"color: var(--jp-warn-color2)\">distributed.core</span> <span style=\"color: var(--jp-info-color0)\">INFO</span>: Starting established connection to tcp://127.0.0.1:58156</pre>"
      ],
      "text/plain": [
       "<IPython.core.display.HTML object>"
      ]
     },
     "metadata": {},
     "output_type": "display_data"
    },
    {
     "name": "stderr",
     "output_type": "stream",
     "text": [
      "2025-07-07 20:58:26,230 - distributed.worker - ERROR - Compute Failed\n",
      "Key:       ('lambda-68aad3370eed01fea4a384a64aa6c172', 7)\n",
      "State:     executing\n",
      "Task:  <Task ('lambda-68aad3370eed01fea4a384a64aa6c172', 7) apply_and_enforce(..., ...)>\n",
      "Exception: 'UndefinedVariableError(\"name \\'objectForcedSource_obj\\' is not defined\")'\n",
      "Traceback: '  File \"/opt/lsst/software/stack/conda/envs/lsst-scipipe-10.0.0/lib/python3.12/site-packages/dask/dataframe/core.py\", line 98, in apply_and_enforce\\n    df = func(*args, **kwargs)\\n         ^^^^^^^^^^^^^^^^^^^^^\\n  File \"/home/nevencaplar/.local/lib/python3.12/site-packages/lsdb/nested/core.py\", line 550, in <lambda>\\n    lambda x: npd.NestedFrame(x).query(expr), meta=self._meta\\n              ^^^^^^^^^^^^^^^^^^^^^^^^^^^^^^\\n  File \"/home/nevencaplar/.local/lib/python3.12/site-packages/nested_pandas/nestedframe/core.py\", line 826, in query\\n    nest_names = self.extract_nest_names(expr, **kwargs)\\n                 ^^^^^^^^^^^^^^^^^^^^^^^^^^^^^^^^^^^^^^^\\n  File \"/home/nevencaplar/.local/lib/python3.12/site-packages/nested_pandas/nestedframe/core.py\", line 750, in extract_nest_names\\n    parsed_expr = Expr(expr, parser=\"nested-pandas\", env=env)\\n                  ^^^^^^^^^^^^^^^^^^^^^^^^^^^^^^^^^^^^^^^^^^^\\n  File \"/opt/lsst/software/stack/conda/envs/lsst-scipipe-10.0.0/lib/python3.12/site-packages/pandas/core/computation/expr.py\", line 809, in __init__\\n    self.terms = self.parse()\\n                 ^^^^^^^^^^^^\\n  File \"/opt/lsst/software/stack/conda/envs/lsst-scipipe-10.0.0/lib/python3.12/site-packages/pandas/core/computation/expr.py\", line 828, in parse\\n    return self._visitor.visit(self.expr)\\n           ^^^^^^^^^^^^^^^^^^^^^^^^^^^^^^\\n  File \"/opt/lsst/software/stack/conda/envs/lsst-scipipe-10.0.0/lib/python3.12/site-packages/pandas/core/computation/expr.py\", line 413, in visit\\n    return visitor(node, **kwargs)\\n           ^^^^^^^^^^^^^^^^^^^^^^^\\n  File \"/opt/lsst/software/stack/conda/envs/lsst-scipipe-10.0.0/lib/python3.12/site-packages/pandas/core/computation/expr.py\", line 419, in visit_Module\\n    return self.visit(expr, **kwargs)\\n           ^^^^^^^^^^^^^^^^^^^^^^^^^^\\n  File \"/opt/lsst/software/stack/conda/envs/lsst-scipipe-10.0.0/lib/python3.12/site-packages/pandas/core/computation/expr.py\", line 413, in visit\\n    return visitor(node, **kwargs)\\n           ^^^^^^^^^^^^^^^^^^^^^^^\\n  File \"/opt/lsst/software/stack/conda/envs/lsst-scipipe-10.0.0/lib/python3.12/site-packages/pandas/core/computation/expr.py\", line 422, in visit_Expr\\n    return self.visit(node.value, **kwargs)\\n           ^^^^^^^^^^^^^^^^^^^^^^^^^^^^^^^^\\n  File \"/opt/lsst/software/stack/conda/envs/lsst-scipipe-10.0.0/lib/python3.12/site-packages/pandas/core/computation/expr.py\", line 413, in visit\\n    return visitor(node, **kwargs)\\n           ^^^^^^^^^^^^^^^^^^^^^^^\\n  File \"/opt/lsst/software/stack/conda/envs/lsst-scipipe-10.0.0/lib/python3.12/site-packages/pandas/core/computation/expr.py\", line 746, in visit_BoolOp\\n    return reduce(visitor, operands)\\n           ^^^^^^^^^^^^^^^^^^^^^^^^^\\n  File \"/opt/lsst/software/stack/conda/envs/lsst-scipipe-10.0.0/lib/python3.12/site-packages/pandas/core/computation/expr.py\", line 739, in visitor\\n    lhs = self._try_visit_binop(x)\\n          ^^^^^^^^^^^^^^^^^^^^^^^^\\n  File \"/opt/lsst/software/stack/conda/envs/lsst-scipipe-10.0.0/lib/python3.12/site-packages/pandas/core/computation/expr.py\", line 735, in _try_visit_binop\\n    return self.visit(bop)\\n           ^^^^^^^^^^^^^^^\\n  File \"/opt/lsst/software/stack/conda/envs/lsst-scipipe-10.0.0/lib/python3.12/site-packages/pandas/core/computation/expr.py\", line 413, in visit\\n    return visitor(node, **kwargs)\\n           ^^^^^^^^^^^^^^^^^^^^^^^\\n  File \"/opt/lsst/software/stack/conda/envs/lsst-scipipe-10.0.0/lib/python3.12/site-packages/pandas/core/computation/expr.py\", line 541, in visit_UnaryOp\\n    operand = self.visit(node.operand)\\n              ^^^^^^^^^^^^^^^^^^^^^^^^\\n  File \"/opt/lsst/software/stack/conda/envs/lsst-scipipe-10.0.0/lib/python3.12/site-packages/pandas/core/computation/expr.py\", line 413, in visit\\n    return visitor(node, **kwargs)\\n           ^^^^^^^^^^^^^^^^^^^^^^^\\n  File \"/opt/lsst/software/stack/conda/envs/lsst-scipipe-10.0.0/lib/python3.12/site-packages/pandas/core/computation/expr.py\", line 644, in visit_Attribute\\n    resolved = self.visit(value).value\\n               ^^^^^^^^^^^^^^^^^\\n  File \"/opt/lsst/software/stack/conda/envs/lsst-scipipe-10.0.0/lib/python3.12/site-packages/pandas/core/computation/expr.py\", line 413, in visit\\n    return visitor(node, **kwargs)\\n           ^^^^^^^^^^^^^^^^^^^^^^^\\n  File \"/opt/lsst/software/stack/conda/envs/lsst-scipipe-10.0.0/lib/python3.12/site-packages/pandas/core/computation/expr.py\", line 545, in visit_Name\\n    return self.term_type(node.id, self.env, **kwargs)\\n           ^^^^^^^^^^^^^^^^^^^^^^^^^^^^^^^^^^^^^^^^^^^\\n  File \"/opt/lsst/software/stack/conda/envs/lsst-scipipe-10.0.0/lib/python3.12/site-packages/pandas/core/computation/ops.py\", line 91, in __init__\\n    self._value = self._resolve_name()\\n                  ^^^^^^^^^^^^^^^^^^^^\\n  File \"/opt/lsst/software/stack/conda/envs/lsst-scipipe-10.0.0/lib/python3.12/site-packages/pandas/core/computation/ops.py\", line 115, in _resolve_name\\n    res = self.env.resolve(local_name, is_local=is_local)\\n          ^^^^^^^^^^^^^^^^^^^^^^^^^^^^^^^^^^^^^^^^^^^^^^^\\n  File \"/opt/lsst/software/stack/conda/envs/lsst-scipipe-10.0.0/lib/python3.12/site-packages/pandas/core/computation/scope.py\", line 244, in resolve\\n    raise UndefinedVariableError(key, is_local) from err\\n'\n",
      "\n",
      "2025-07-07 20:58:26,281 - distributed.worker - ERROR - Compute Failed\n",
      "Key:       ('lambda-68aad3370eed01fea4a384a64aa6c172', 3)\n",
      "State:     executing\n",
      "Task:  <Task ('lambda-68aad3370eed01fea4a384a64aa6c172', 3) apply_and_enforce(..., ...)>\n",
      "Exception: 'UndefinedVariableError(\"name \\'objectForcedSource_obj\\' is not defined\")'\n",
      "Traceback: '  File \"/opt/lsst/software/stack/conda/envs/lsst-scipipe-10.0.0/lib/python3.12/site-packages/dask/dataframe/core.py\", line 98, in apply_and_enforce\\n    df = func(*args, **kwargs)\\n         ^^^^^^^^^^^^^^^^^^^^^\\n  File \"/home/nevencaplar/.local/lib/python3.12/site-packages/lsdb/nested/core.py\", line 550, in <lambda>\\n    lambda x: npd.NestedFrame(x).query(expr), meta=self._meta\\n              ^^^^^^^^^^^^^^^^^^^^^^^^^^^^^^\\n  File \"/home/nevencaplar/.local/lib/python3.12/site-packages/nested_pandas/nestedframe/core.py\", line 826, in query\\n    nest_names = self.extract_nest_names(expr, **kwargs)\\n                 ^^^^^^^^^^^^^^^^^^^^^^^^^^^^^^^^^^^^^^^\\n  File \"/home/nevencaplar/.local/lib/python3.12/site-packages/nested_pandas/nestedframe/core.py\", line 750, in extract_nest_names\\n    parsed_expr = Expr(expr, parser=\"nested-pandas\", env=env)\\n                  ^^^^^^^^^^^^^^^^^^^^^^^^^^^^^^^^^^^^^^^^^^^\\n  File \"/opt/lsst/software/stack/conda/envs/lsst-scipipe-10.0.0/lib/python3.12/site-packages/pandas/core/computation/expr.py\", line 809, in __init__\\n    self.terms = self.parse()\\n                 ^^^^^^^^^^^^\\n  File \"/opt/lsst/software/stack/conda/envs/lsst-scipipe-10.0.0/lib/python3.12/site-packages/pandas/core/computation/expr.py\", line 828, in parse\\n    return self._visitor.visit(self.expr)\\n           ^^^^^^^^^^^^^^^^^^^^^^^^^^^^^^\\n  File \"/opt/lsst/software/stack/conda/envs/lsst-scipipe-10.0.0/lib/python3.12/site-packages/pandas/core/computation/expr.py\", line 413, in visit\\n    return visitor(node, **kwargs)\\n           ^^^^^^^^^^^^^^^^^^^^^^^\\n  File \"/opt/lsst/software/stack/conda/envs/lsst-scipipe-10.0.0/lib/python3.12/site-packages/pandas/core/computation/expr.py\", line 419, in visit_Module\\n    return self.visit(expr, **kwargs)\\n           ^^^^^^^^^^^^^^^^^^^^^^^^^^\\n  File \"/opt/lsst/software/stack/conda/envs/lsst-scipipe-10.0.0/lib/python3.12/site-packages/pandas/core/computation/expr.py\", line 413, in visit\\n    return visitor(node, **kwargs)\\n           ^^^^^^^^^^^^^^^^^^^^^^^\\n  File \"/opt/lsst/software/stack/conda/envs/lsst-scipipe-10.0.0/lib/python3.12/site-packages/pandas/core/computation/expr.py\", line 422, in visit_Expr\\n    return self.visit(node.value, **kwargs)\\n           ^^^^^^^^^^^^^^^^^^^^^^^^^^^^^^^^\\n  File \"/opt/lsst/software/stack/conda/envs/lsst-scipipe-10.0.0/lib/python3.12/site-packages/pandas/core/computation/expr.py\", line 413, in visit\\n    return visitor(node, **kwargs)\\n           ^^^^^^^^^^^^^^^^^^^^^^^\\n  File \"/opt/lsst/software/stack/conda/envs/lsst-scipipe-10.0.0/lib/python3.12/site-packages/pandas/core/computation/expr.py\", line 746, in visit_BoolOp\\n    return reduce(visitor, operands)\\n           ^^^^^^^^^^^^^^^^^^^^^^^^^\\n  File \"/opt/lsst/software/stack/conda/envs/lsst-scipipe-10.0.0/lib/python3.12/site-packages/pandas/core/computation/expr.py\", line 739, in visitor\\n    lhs = self._try_visit_binop(x)\\n          ^^^^^^^^^^^^^^^^^^^^^^^^\\n  File \"/opt/lsst/software/stack/conda/envs/lsst-scipipe-10.0.0/lib/python3.12/site-packages/pandas/core/computation/expr.py\", line 735, in _try_visit_binop\\n    return self.visit(bop)\\n           ^^^^^^^^^^^^^^^\\n  File \"/opt/lsst/software/stack/conda/envs/lsst-scipipe-10.0.0/lib/python3.12/site-packages/pandas/core/computation/expr.py\", line 413, in visit\\n    return visitor(node, **kwargs)\\n           ^^^^^^^^^^^^^^^^^^^^^^^\\n  File \"/opt/lsst/software/stack/conda/envs/lsst-scipipe-10.0.0/lib/python3.12/site-packages/pandas/core/computation/expr.py\", line 541, in visit_UnaryOp\\n    operand = self.visit(node.operand)\\n              ^^^^^^^^^^^^^^^^^^^^^^^^\\n  File \"/opt/lsst/software/stack/conda/envs/lsst-scipipe-10.0.0/lib/python3.12/site-packages/pandas/core/computation/expr.py\", line 413, in visit\\n    return visitor(node, **kwargs)\\n           ^^^^^^^^^^^^^^^^^^^^^^^\\n  File \"/opt/lsst/software/stack/conda/envs/lsst-scipipe-10.0.0/lib/python3.12/site-packages/pandas/core/computation/expr.py\", line 644, in visit_Attribute\\n    resolved = self.visit(value).value\\n               ^^^^^^^^^^^^^^^^^\\n  File \"/opt/lsst/software/stack/conda/envs/lsst-scipipe-10.0.0/lib/python3.12/site-packages/pandas/core/computation/expr.py\", line 413, in visit\\n    return visitor(node, **kwargs)\\n           ^^^^^^^^^^^^^^^^^^^^^^^\\n  File \"/opt/lsst/software/stack/conda/envs/lsst-scipipe-10.0.0/lib/python3.12/site-packages/pandas/core/computation/expr.py\", line 545, in visit_Name\\n    return self.term_type(node.id, self.env, **kwargs)\\n           ^^^^^^^^^^^^^^^^^^^^^^^^^^^^^^^^^^^^^^^^^^^\\n  File \"/opt/lsst/software/stack/conda/envs/lsst-scipipe-10.0.0/lib/python3.12/site-packages/pandas/core/computation/ops.py\", line 91, in __init__\\n    self._value = self._resolve_name()\\n                  ^^^^^^^^^^^^^^^^^^^^\\n  File \"/opt/lsst/software/stack/conda/envs/lsst-scipipe-10.0.0/lib/python3.12/site-packages/pandas/core/computation/ops.py\", line 115, in _resolve_name\\n    res = self.env.resolve(local_name, is_local=is_local)\\n          ^^^^^^^^^^^^^^^^^^^^^^^^^^^^^^^^^^^^^^^^^^^^^^^\\n  File \"/opt/lsst/software/stack/conda/envs/lsst-scipipe-10.0.0/lib/python3.12/site-packages/pandas/core/computation/scope.py\", line 244, in resolve\\n    raise UndefinedVariableError(key, is_local) from err\\n'\n",
      "\n"
     ]
    },
    {
     "data": {
      "text/html": [
       "<pre style=\"margin: 0.1em;\n",
       "padding-left: 0.25em;\n",
       "border-left-style: solid;\n",
       "font-family: var(--jp-code-font-family);\n",
       "font-size: var(--jp-code-font-size);\n",
       "line-height: var(--jp-code-line-height);\n",
       "\"><span style=\"color: var(--jp-warn-color2)\">distributed.scheduler</span> <span style=\"color: var(--jp-info-color0)\">INFO</span>: Remove client Client-1a58d2e5-5b75-11f0-b99b-f2a1212b9dba</pre>"
      ],
      "text/plain": [
       "<IPython.core.display.HTML object>"
      ]
     },
     "metadata": {},
     "output_type": "display_data"
    },
    {
     "data": {
      "text/html": [
       "<pre style=\"margin: 0.1em;\n",
       "padding-left: 0.25em;\n",
       "border-left-style: solid;\n",
       "font-family: var(--jp-code-font-family);\n",
       "font-size: var(--jp-code-font-size);\n",
       "line-height: var(--jp-code-line-height);\n",
       "\"><span style=\"color: var(--jp-warn-color2)\">distributed.core</span> <span style=\"color: var(--jp-info-color0)\">INFO</span>: Received &#x27;close-stream&#x27; from tcp://127.0.0.1:58156; closing.</pre>"
      ],
      "text/plain": [
       "<IPython.core.display.HTML object>"
      ]
     },
     "metadata": {},
     "output_type": "display_data"
    },
    {
     "data": {
      "text/html": [
       "<pre style=\"margin: 0.1em;\n",
       "padding-left: 0.25em;\n",
       "border-left-style: solid;\n",
       "font-family: var(--jp-code-font-family);\n",
       "font-size: var(--jp-code-font-size);\n",
       "line-height: var(--jp-code-line-height);\n",
       "\"><span style=\"color: var(--jp-warn-color2)\">distributed.scheduler</span> <span style=\"color: var(--jp-info-color0)\">INFO</span>: Remove client Client-1a58d2e5-5b75-11f0-b99b-f2a1212b9dba</pre>"
      ],
      "text/plain": [
       "<IPython.core.display.HTML object>"
      ]
     },
     "metadata": {},
     "output_type": "display_data"
    },
    {
     "data": {
      "text/html": [
       "<pre style=\"margin: 0.1em;\n",
       "padding-left: 0.25em;\n",
       "border-left-style: solid;\n",
       "font-family: var(--jp-code-font-family);\n",
       "font-size: var(--jp-code-font-size);\n",
       "line-height: var(--jp-code-line-height);\n",
       "\"><span style=\"color: var(--jp-warn-color2)\">distributed.scheduler</span> <span style=\"color: var(--jp-info-color0)\">INFO</span>: Close client connection: Client-1a58d2e5-5b75-11f0-b99b-f2a1212b9dba</pre>"
      ],
      "text/plain": [
       "<IPython.core.display.HTML object>"
      ]
     },
     "metadata": {},
     "output_type": "display_data"
    },
    {
     "data": {
      "text/html": [
       "<pre style=\"margin: 0.1em;\n",
       "padding-left: 0.25em;\n",
       "border-left-style: solid;\n",
       "font-family: var(--jp-code-font-family);\n",
       "font-size: var(--jp-code-font-size);\n",
       "line-height: var(--jp-code-line-height);\n",
       "\"><span style=\"color: var(--jp-warn-color2)\">distributed.scheduler</span> <span style=\"color: var(--jp-info-color0)\">INFO</span>: Retire worker addresses (stimulus_id=&#x27;retire-workers-1751921906.3215296&#x27;) (0, 1, 2, 3)</pre>"
      ],
      "text/plain": [
       "<IPython.core.display.HTML object>"
      ]
     },
     "metadata": {},
     "output_type": "display_data"
    },
    {
     "data": {
      "text/html": [
       "<pre style=\"margin: 0.1em;\n",
       "padding-left: 0.25em;\n",
       "border-left-style: solid;\n",
       "font-family: var(--jp-code-font-family);\n",
       "font-size: var(--jp-code-font-size);\n",
       "line-height: var(--jp-code-line-height);\n",
       "\"><span style=\"color: var(--jp-warn-color2)\">distributed.nanny</span> <span style=\"color: var(--jp-info-color0)\">INFO</span>: Closing Nanny at &#x27;tcp://127.0.0.1:42041&#x27;. Reason: nanny-close</pre>"
      ],
      "text/plain": [
       "<IPython.core.display.HTML object>"
      ]
     },
     "metadata": {},
     "output_type": "display_data"
    },
    {
     "data": {
      "text/html": [
       "<pre style=\"margin: 0.1em;\n",
       "padding-left: 0.25em;\n",
       "border-left-style: solid;\n",
       "font-family: var(--jp-code-font-family);\n",
       "font-size: var(--jp-code-font-size);\n",
       "line-height: var(--jp-code-line-height);\n",
       "\"><span style=\"color: var(--jp-warn-color2)\">distributed.nanny</span> <span style=\"color: var(--jp-info-color0)\">INFO</span>: Nanny asking worker to close. Reason: nanny-close</pre>"
      ],
      "text/plain": [
       "<IPython.core.display.HTML object>"
      ]
     },
     "metadata": {},
     "output_type": "display_data"
    },
    {
     "data": {
      "text/html": [
       "<pre style=\"margin: 0.1em;\n",
       "padding-left: 0.25em;\n",
       "border-left-style: solid;\n",
       "font-family: var(--jp-code-font-family);\n",
       "font-size: var(--jp-code-font-size);\n",
       "line-height: var(--jp-code-line-height);\n",
       "\"><span style=\"color: var(--jp-warn-color2)\">distributed.nanny</span> <span style=\"color: var(--jp-info-color0)\">INFO</span>: Closing Nanny at &#x27;tcp://127.0.0.1:40683&#x27;. Reason: nanny-close</pre>"
      ],
      "text/plain": [
       "<IPython.core.display.HTML object>"
      ]
     },
     "metadata": {},
     "output_type": "display_data"
    },
    {
     "name": "stderr",
     "output_type": "stream",
     "text": [
      "2025-07-07 20:58:26,326 - distributed.worker.state_machine - WARNING - Async instruction for <Task cancelled name=\"execute(('read_pixel-_to_string_dtype-nestedframe-915dd69fc3b8d34449ad06b28a9256d8', 95))\" coro=<Worker.execute() done, defined at /opt/lsst/software/stack/conda/envs/lsst-scipipe-10.0.0/lib/python3.12/site-packages/distributed/worker_state_machine.py:3607>> ended with CancelledError\n"
     ]
    },
    {
     "data": {
      "text/html": [
       "<pre style=\"margin: 0.1em;\n",
       "padding-left: 0.25em;\n",
       "border-left-style: solid;\n",
       "font-family: var(--jp-code-font-family);\n",
       "font-size: var(--jp-code-font-size);\n",
       "line-height: var(--jp-code-line-height);\n",
       "\"><span style=\"color: var(--jp-warn-color2)\">distributed.nanny</span> <span style=\"color: var(--jp-info-color0)\">INFO</span>: Nanny asking worker to close. Reason: nanny-close</pre>"
      ],
      "text/plain": [
       "<IPython.core.display.HTML object>"
      ]
     },
     "metadata": {},
     "output_type": "display_data"
    },
    {
     "data": {
      "text/html": [
       "<pre style=\"margin: 0.1em;\n",
       "padding-left: 0.25em;\n",
       "border-left-style: solid;\n",
       "font-family: var(--jp-code-font-family);\n",
       "font-size: var(--jp-code-font-size);\n",
       "line-height: var(--jp-code-line-height);\n",
       "\"><span style=\"color: var(--jp-warn-color2)\">distributed.nanny</span> <span style=\"color: var(--jp-info-color0)\">INFO</span>: Closing Nanny at &#x27;tcp://127.0.0.1:37863&#x27;. Reason: nanny-close</pre>"
      ],
      "text/plain": [
       "<IPython.core.display.HTML object>"
      ]
     },
     "metadata": {},
     "output_type": "display_data"
    },
    {
     "name": "stderr",
     "output_type": "stream",
     "text": [
      "2025-07-07 20:58:26,329 - distributed.worker.state_machine - WARNING - Async instruction for <Task cancelled name=\"execute(('read_pixel-_to_string_dtype-nestedframe-2bac6441eca3c5a2243c2097f69b06c3', 21))\" coro=<Worker.execute() done, defined at /opt/lsst/software/stack/conda/envs/lsst-scipipe-10.0.0/lib/python3.12/site-packages/distributed/worker_state_machine.py:3607>> ended with CancelledError\n"
     ]
    },
    {
     "data": {
      "text/html": [
       "<pre style=\"margin: 0.1em;\n",
       "padding-left: 0.25em;\n",
       "border-left-style: solid;\n",
       "font-family: var(--jp-code-font-family);\n",
       "font-size: var(--jp-code-font-size);\n",
       "line-height: var(--jp-code-line-height);\n",
       "\"><span style=\"color: var(--jp-warn-color2)\">distributed.nanny</span> <span style=\"color: var(--jp-info-color0)\">INFO</span>: Nanny asking worker to close. Reason: nanny-close</pre>"
      ],
      "text/plain": [
       "<IPython.core.display.HTML object>"
      ]
     },
     "metadata": {},
     "output_type": "display_data"
    },
    {
     "data": {
      "text/html": [
       "<pre style=\"margin: 0.1em;\n",
       "padding-left: 0.25em;\n",
       "border-left-style: solid;\n",
       "font-family: var(--jp-code-font-family);\n",
       "font-size: var(--jp-code-font-size);\n",
       "line-height: var(--jp-code-line-height);\n",
       "\"><span style=\"color: var(--jp-warn-color2)\">distributed.nanny</span> <span style=\"color: var(--jp-info-color0)\">INFO</span>: Closing Nanny at &#x27;tcp://127.0.0.1:41829&#x27;. Reason: nanny-close</pre>"
      ],
      "text/plain": [
       "<IPython.core.display.HTML object>"
      ]
     },
     "metadata": {},
     "output_type": "display_data"
    },
    {
     "data": {
      "text/html": [
       "<pre style=\"margin: 0.1em;\n",
       "padding-left: 0.25em;\n",
       "border-left-style: solid;\n",
       "font-family: var(--jp-code-font-family);\n",
       "font-size: var(--jp-code-font-size);\n",
       "line-height: var(--jp-code-line-height);\n",
       "\"><span style=\"color: var(--jp-warn-color2)\">distributed.nanny</span> <span style=\"color: var(--jp-info-color0)\">INFO</span>: Nanny asking worker to close. Reason: nanny-close</pre>"
      ],
      "text/plain": [
       "<IPython.core.display.HTML object>"
      ]
     },
     "metadata": {},
     "output_type": "display_data"
    },
    {
     "data": {
      "text/html": [
       "<pre style=\"margin: 0.1em;\n",
       "padding-left: 0.25em;\n",
       "border-left-style: solid;\n",
       "font-family: var(--jp-code-font-family);\n",
       "font-size: var(--jp-code-font-size);\n",
       "line-height: var(--jp-code-line-height);\n",
       "\"><span style=\"color: var(--jp-warn-color2)\">distributed.core</span> <span style=\"color: var(--jp-info-color0)\">INFO</span>: Received &#x27;close-stream&#x27; from tcp://127.0.0.1:58120; closing.</pre>"
      ],
      "text/plain": [
       "<IPython.core.display.HTML object>"
      ]
     },
     "metadata": {},
     "output_type": "display_data"
    },
    {
     "data": {
      "text/html": [
       "<pre style=\"margin: 0.1em;\n",
       "padding-left: 0.25em;\n",
       "border-left-style: solid;\n",
       "font-family: var(--jp-code-font-family);\n",
       "font-size: var(--jp-code-font-size);\n",
       "line-height: var(--jp-code-line-height);\n",
       "\"><span style=\"color: var(--jp-warn-color2)\">distributed.core</span> <span style=\"color: var(--jp-info-color0)\">INFO</span>: Received &#x27;close-stream&#x27; from tcp://127.0.0.1:58140; closing.</pre>"
      ],
      "text/plain": [
       "<IPython.core.display.HTML object>"
      ]
     },
     "metadata": {},
     "output_type": "display_data"
    },
    {
     "name": "stderr",
     "output_type": "stream",
     "text": [
      "2025-07-07 20:58:26,398 - distributed.worker.state_machine - WARNING - Async instruction for <Task cancelled name=\"execute('perform_align_and_apply_func-331c87a9-8966-4c87-a5e8-8edef36ceed9')\" coro=<Worker.execute() done, defined at /opt/lsst/software/stack/conda/envs/lsst-scipipe-10.0.0/lib/python3.12/site-packages/distributed/worker_state_machine.py:3607>> ended with CancelledError\n"
     ]
    },
    {
     "data": {
      "text/html": [
       "<pre style=\"margin: 0.1em;\n",
       "padding-left: 0.25em;\n",
       "border-left-style: solid;\n",
       "font-family: var(--jp-code-font-family);\n",
       "font-size: var(--jp-code-font-size);\n",
       "line-height: var(--jp-code-line-height);\n",
       "\"><span style=\"color: var(--jp-warn-color2)\">distributed.core</span> <span style=\"color: var(--jp-info-color0)\">INFO</span>: Received &#x27;close-stream&#x27; from tcp://127.0.0.1:58128; closing.</pre>"
      ],
      "text/plain": [
       "<IPython.core.display.HTML object>"
      ]
     },
     "metadata": {},
     "output_type": "display_data"
    },
    {
     "data": {
      "text/html": [
       "<pre style=\"margin: 0.1em;\n",
       "padding-left: 0.25em;\n",
       "border-left-style: solid;\n",
       "font-family: var(--jp-code-font-family);\n",
       "font-size: var(--jp-code-font-size);\n",
       "line-height: var(--jp-code-line-height);\n",
       "\"><span style=\"color: var(--jp-warn-color2)\">distributed.scheduler</span> <span style=\"color: var(--jp-info-color0)\">INFO</span>: Remove worker addr: tcp://127.0.0.1:34893 name: 0 (stimulus_id=&#x27;handle-worker-cleanup-1751921906.4006233&#x27;)</pre>"
      ],
      "text/plain": [
       "<IPython.core.display.HTML object>"
      ]
     },
     "metadata": {},
     "output_type": "display_data"
    },
    {
     "data": {
      "text/html": [
       "<pre style=\"margin: 0.1em;\n",
       "padding-left: 0.25em;\n",
       "border-left-style: solid;\n",
       "font-family: var(--jp-code-font-family);\n",
       "font-size: var(--jp-code-font-size);\n",
       "line-height: var(--jp-code-line-height);\n",
       "\"><span style=\"color: var(--jp-warn-color2)\">distributed.scheduler</span> <span style=\"color: var(--jp-info-color0)\">INFO</span>: Remove worker addr: tcp://127.0.0.1:45941 name: 1 (stimulus_id=&#x27;handle-worker-cleanup-1751921906.402333&#x27;)</pre>"
      ],
      "text/plain": [
       "<IPython.core.display.HTML object>"
      ]
     },
     "metadata": {},
     "output_type": "display_data"
    },
    {
     "data": {
      "text/html": [
       "<pre style=\"margin: 0.1em;\n",
       "padding-left: 0.25em;\n",
       "border-left-style: solid;\n",
       "font-family: var(--jp-code-font-family);\n",
       "font-size: var(--jp-code-font-size);\n",
       "line-height: var(--jp-code-line-height);\n",
       "\"><span style=\"color: var(--jp-warn-color2)\">distributed.scheduler</span> <span style=\"color: var(--jp-info-color0)\">INFO</span>: Remove worker addr: tcp://127.0.0.1:43431 name: 2 (stimulus_id=&#x27;handle-worker-cleanup-1751921906.4040673&#x27;)</pre>"
      ],
      "text/plain": [
       "<IPython.core.display.HTML object>"
      ]
     },
     "metadata": {},
     "output_type": "display_data"
    },
    {
     "data": {
      "text/html": [
       "<pre style=\"margin: 0.1em;\n",
       "padding-left: 0.25em;\n",
       "border-left-style: solid;\n",
       "font-family: var(--jp-code-font-family);\n",
       "font-size: var(--jp-code-font-size);\n",
       "line-height: var(--jp-code-line-height);\n",
       "\"><span style=\"color: var(--jp-warn-color2)\">distributed.core</span> <span style=\"color: var(--jp-info-color0)\">INFO</span>: Received &#x27;close-stream&#x27; from tcp://127.0.0.1:58132; closing.</pre>"
      ],
      "text/plain": [
       "<IPython.core.display.HTML object>"
      ]
     },
     "metadata": {},
     "output_type": "display_data"
    },
    {
     "data": {
      "text/html": [
       "<pre style=\"margin: 0.1em;\n",
       "padding-left: 0.25em;\n",
       "border-left-style: solid;\n",
       "font-family: var(--jp-code-font-family);\n",
       "font-size: var(--jp-code-font-size);\n",
       "line-height: var(--jp-code-line-height);\n",
       "\"><span style=\"color: var(--jp-warn-color2)\">distributed.scheduler</span> <span style=\"color: var(--jp-info-color0)\">INFO</span>: Remove worker addr: tcp://127.0.0.1:46521 name: 3 (stimulus_id=&#x27;handle-worker-cleanup-1751921906.4077213&#x27;)</pre>"
      ],
      "text/plain": [
       "<IPython.core.display.HTML object>"
      ]
     },
     "metadata": {},
     "output_type": "display_data"
    },
    {
     "data": {
      "text/html": [
       "<pre style=\"margin: 0.1em;\n",
       "padding-left: 0.25em;\n",
       "border-left-style: solid;\n",
       "font-family: var(--jp-code-font-family);\n",
       "font-size: var(--jp-code-font-size);\n",
       "line-height: var(--jp-code-line-height);\n",
       "\"><span style=\"color: var(--jp-warn-color2)\">distributed.scheduler</span> <span style=\"color: var(--jp-info-color0)\">INFO</span>: Lost all workers</pre>"
      ],
      "text/plain": [
       "<IPython.core.display.HTML object>"
      ]
     },
     "metadata": {},
     "output_type": "display_data"
    },
    {
     "data": {
      "text/html": [
       "<pre style=\"margin: 0.1em;\n",
       "padding-left: 0.25em;\n",
       "border-left-style: solid;\n",
       "font-family: var(--jp-code-font-family);\n",
       "font-size: var(--jp-code-font-size);\n",
       "line-height: var(--jp-code-line-height);\n",
       "\"><span style=\"color: var(--jp-warn-color2)\">distributed.batched</span> <span style=\"color: var(--jp-info-color0)\">INFO</span>: Batched Comm Closed &lt;TCP (closed) Scheduler connection to worker local=tcp://127.0.0.1:33509 remote=tcp://127.0.0.1:58132&gt;</pre><pre style=\"margin: 0.1em;\n",
       "padding-left: 0.25em;\n",
       "border-left-style: solid;\n",
       "font-family: var(--jp-code-font-family);\n",
       "font-size: var(--jp-code-font-size);\n",
       "line-height: var(--jp-code-line-height);\n",
       "\">Traceback (most recent call last):\n",
       "  File \"/opt/lsst/software/stack/conda/envs/lsst-scipipe-10.0.0/lib/python3.12/site-packages/distributed/comm/tcp.py\", line 298, in write\n",
       "    raise StreamClosedError()\n",
       "tornado.iostream.StreamClosedError: Stream is closed\n",
       "\n",
       "The above exception was the direct cause of the following exception:\n",
       "\n",
       "Traceback (most recent call last):\n",
       "  File \"/opt/lsst/software/stack/conda/envs/lsst-scipipe-10.0.0/lib/python3.12/site-packages/distributed/batched.py\", line 115, in _background_send\n",
       "    nbytes = yield coro\n",
       "             ^^^^^^^^^^\n",
       "  File \"/opt/lsst/software/stack/conda/envs/lsst-scipipe-10.0.0/lib/python3.12/site-packages/tornado/gen.py\", line 769, in run\n",
       "    value = future.result()\n",
       "            ^^^^^^^^^^^^^^^\n",
       "  File \"/opt/lsst/software/stack/conda/envs/lsst-scipipe-10.0.0/lib/python3.12/site-packages/distributed/comm/tcp.py\", line 308, in write\n",
       "    convert_stream_closed_error(self, e)\n",
       "  File \"/opt/lsst/software/stack/conda/envs/lsst-scipipe-10.0.0/lib/python3.12/site-packages/distributed/comm/tcp.py\", line 137, in convert_stream_closed_error\n",
       "    raise CommClosedError(f\"in {obj}: {exc}\") from exc\n",
       "distributed.comm.core.CommClosedError: in <TCP (closed) Scheduler connection to worker local=tcp://127.0.0.1:33509 remote=tcp://127.0.0.1:58132>: Stream is closed\n",
       "</pre>"
      ],
      "text/plain": [
       "<IPython.core.display.HTML object>"
      ]
     },
     "metadata": {},
     "output_type": "display_data"
    },
    {
     "data": {
      "text/html": [
       "<pre style=\"margin: 0.1em;\n",
       "padding-left: 0.25em;\n",
       "border-left-style: solid;\n",
       "font-family: var(--jp-code-font-family);\n",
       "font-size: var(--jp-code-font-size);\n",
       "line-height: var(--jp-code-line-height);\n",
       "\"><span style=\"color: var(--jp-warn-color2)\">distributed.nanny</span> <span style=\"color: var(--jp-info-color0)\">INFO</span>: Nanny at &#x27;tcp://127.0.0.1:37863&#x27; closed.</pre>"
      ],
      "text/plain": [
       "<IPython.core.display.HTML object>"
      ]
     },
     "metadata": {},
     "output_type": "display_data"
    },
    {
     "data": {
      "text/html": [
       "<pre style=\"margin: 0.1em;\n",
       "padding-left: 0.25em;\n",
       "border-left-style: solid;\n",
       "font-family: var(--jp-code-font-family);\n",
       "font-size: var(--jp-code-font-size);\n",
       "line-height: var(--jp-code-line-height);\n",
       "\"><span style=\"color: var(--jp-warn-color2)\">distributed.nanny</span> <span style=\"color: var(--jp-info-color0)\">INFO</span>: Nanny at &#x27;tcp://127.0.0.1:40683&#x27; closed.</pre>"
      ],
      "text/plain": [
       "<IPython.core.display.HTML object>"
      ]
     },
     "metadata": {},
     "output_type": "display_data"
    },
    {
     "data": {
      "text/html": [
       "<pre style=\"margin: 0.1em;\n",
       "padding-left: 0.25em;\n",
       "border-left-style: solid;\n",
       "font-family: var(--jp-code-font-family);\n",
       "font-size: var(--jp-code-font-size);\n",
       "line-height: var(--jp-code-line-height);\n",
       "\"><span style=\"color: var(--jp-warn-color2)\">distributed.nanny</span> <span style=\"color: var(--jp-info-color0)\">INFO</span>: Nanny at &#x27;tcp://127.0.0.1:41829&#x27; closed.</pre>"
      ],
      "text/plain": [
       "<IPython.core.display.HTML object>"
      ]
     },
     "metadata": {},
     "output_type": "display_data"
    },
    {
     "data": {
      "text/html": [
       "<pre style=\"margin: 0.1em;\n",
       "padding-left: 0.25em;\n",
       "border-left-style: solid;\n",
       "font-family: var(--jp-code-font-family);\n",
       "font-size: var(--jp-code-font-size);\n",
       "line-height: var(--jp-code-line-height);\n",
       "\"><span style=\"color: var(--jp-warn-color2)\">distributed.nanny</span> <span style=\"color: var(--jp-info-color0)\">INFO</span>: Nanny at &#x27;tcp://127.0.0.1:42041&#x27; closed.</pre>"
      ],
      "text/plain": [
       "<IPython.core.display.HTML object>"
      ]
     },
     "metadata": {},
     "output_type": "display_data"
    },
    {
     "data": {
      "text/html": [
       "<pre style=\"margin: 0.1em;\n",
       "padding-left: 0.25em;\n",
       "border-left-style: solid;\n",
       "font-family: var(--jp-code-font-family);\n",
       "font-size: var(--jp-code-font-size);\n",
       "line-height: var(--jp-code-line-height);\n",
       "\"><span style=\"color: var(--jp-warn-color2)\">distributed.scheduler</span> <span style=\"color: var(--jp-info-color0)\">INFO</span>: Closing scheduler. Reason: unknown</pre>"
      ],
      "text/plain": [
       "<IPython.core.display.HTML object>"
      ]
     },
     "metadata": {},
     "output_type": "display_data"
    },
    {
     "data": {
      "text/html": [
       "<pre style=\"margin: 0.1em;\n",
       "padding-left: 0.25em;\n",
       "border-left-style: solid;\n",
       "font-family: var(--jp-code-font-family);\n",
       "font-size: var(--jp-code-font-size);\n",
       "line-height: var(--jp-code-line-height);\n",
       "\"><span style=\"color: var(--jp-warn-color2)\">distributed.scheduler</span> <span style=\"color: var(--jp-info-color0)\">INFO</span>: Scheduler closing all comms</pre>"
      ],
      "text/plain": [
       "<IPython.core.display.HTML object>"
      ]
     },
     "metadata": {},
     "output_type": "display_data"
    },
    {
     "ename": "UndefinedVariableError",
     "evalue": "name \"name 'objectForcedSource_obj' is not defined\" is not defined",
     "output_type": "error",
     "traceback": [
      "\u001b[0;31m---------------------------------------------------------------------------\u001b[0m",
      "\u001b[0;31mKeyError\u001b[0m                                  Traceback (most recent call last)",
      "File \u001b[0;32m/opt/lsst/software/stack/conda/envs/lsst-scipipe-10.0.0/lib/python3.12/site-packages/pandas/core/computation/scope.py:231\u001b[0m, in \u001b[0;36mresolve\u001b[0;34m()\u001b[0m\n\u001b[1;32m    230\u001b[0m \u001b[38;5;28;01mif\u001b[39;00m \u001b[38;5;28mself\u001b[39m\u001b[38;5;241m.\u001b[39mhas_resolvers:\n\u001b[0;32m--> 231\u001b[0m     \u001b[38;5;28;01mreturn\u001b[39;00m \u001b[38;5;28mself\u001b[39m\u001b[38;5;241m.\u001b[39mresolvers[key]\n\u001b[1;32m    233\u001b[0m \u001b[38;5;66;03m# if we're here that means that we have no locals and we also have\u001b[39;00m\n\u001b[1;32m    234\u001b[0m \u001b[38;5;66;03m# no resolvers\u001b[39;00m\n",
      "File \u001b[0;32m/opt/lsst/software/stack/conda/envs/lsst-scipipe-10.0.0/lib/python3.12/collections/__init__.py:1015\u001b[0m, in \u001b[0;36m__getitem__\u001b[0;34m()\u001b[0m\n\u001b[1;32m   1014\u001b[0m         \u001b[38;5;28;01mpass\u001b[39;00m\n\u001b[0;32m-> 1015\u001b[0m \u001b[38;5;28;01mreturn\u001b[39;00m \u001b[38;5;28mself\u001b[39m\u001b[38;5;241m.\u001b[39m\u001b[38;5;21m__missing__\u001b[39m(key)\n",
      "File \u001b[0;32m/opt/lsst/software/stack/conda/envs/lsst-scipipe-10.0.0/lib/python3.12/collections/__init__.py:1007\u001b[0m, in \u001b[0;36m__missing__\u001b[0;34m()\u001b[0m\n\u001b[1;32m   1006\u001b[0m \u001b[38;5;28;01mdef\u001b[39;00m\u001b[38;5;250m \u001b[39m\u001b[38;5;21m__missing__\u001b[39m(\u001b[38;5;28mself\u001b[39m, key):\n\u001b[0;32m-> 1007\u001b[0m     \u001b[38;5;28;01mraise\u001b[39;00m \u001b[38;5;167;01mKeyError\u001b[39;00m(key)\n",
      "\u001b[0;31mKeyError\u001b[0m: 'objectForcedSource_obj'",
      "\nDuring handling of the above exception, another exception occurred:\n",
      "\u001b[0;31mKeyError\u001b[0m                                  Traceback (most recent call last)",
      "File \u001b[0;32m/opt/lsst/software/stack/conda/envs/lsst-scipipe-10.0.0/lib/python3.12/site-packages/pandas/core/computation/scope.py:242\u001b[0m, in \u001b[0;36mresolve\u001b[0;34m()\u001b[0m\n\u001b[1;32m    238\u001b[0m \u001b[38;5;28;01mtry\u001b[39;00m:\n\u001b[1;32m    239\u001b[0m     \u001b[38;5;66;03m# last ditch effort we look in temporaries\u001b[39;00m\n\u001b[1;32m    240\u001b[0m     \u001b[38;5;66;03m# these are created when parsing indexing expressions\u001b[39;00m\n\u001b[1;32m    241\u001b[0m     \u001b[38;5;66;03m# e.g., df[df > 0]\u001b[39;00m\n\u001b[0;32m--> 242\u001b[0m     \u001b[38;5;28;01mreturn\u001b[39;00m \u001b[38;5;28mself\u001b[39m\u001b[38;5;241m.\u001b[39mtemps[key]\n\u001b[1;32m    243\u001b[0m \u001b[38;5;28;01mexcept\u001b[39;00m \u001b[38;5;167;01mKeyError\u001b[39;00m \u001b[38;5;28;01mas\u001b[39;00m err:\n",
      "\u001b[0;31mKeyError\u001b[0m: 'objectForcedSource_obj'",
      "\nThe above exception was the direct cause of the following exception:\n",
      "\u001b[0;31mUndefinedVariableError\u001b[0m                    Traceback (most recent call last)",
      "Cell \u001b[0;32mIn[7], line 3\u001b[0m\n\u001b[1;32m      1\u001b[0m \u001b[38;5;28;01mwith\u001b[39;00m Client(n_workers\u001b[38;5;241m=\u001b[39m\u001b[38;5;241m4\u001b[39m, threads_per_worker\u001b[38;5;241m=\u001b[39m\u001b[38;5;241m1\u001b[39m) \u001b[38;5;28;01mas\u001b[39;00m client:\n\u001b[1;32m      2\u001b[0m     \u001b[38;5;66;03m# Sort light curves by variable object index for plotting purposes\u001b[39;00m\n\u001b[0;32m----> 3\u001b[0m     result_df \u001b[38;5;241m=\u001b[39m \u001b[43mresult\u001b[49m\u001b[38;5;241;43m.\u001b[39;49m\u001b[43mcompute\u001b[49m\u001b[43m(\u001b[49m\u001b[43m)\u001b[49m\u001b[38;5;241m.\u001b[39msort_values(\u001b[38;5;124m\"\u001b[39m\u001b[38;5;124mindex_var_obj\u001b[39m\u001b[38;5;124m\"\u001b[39m)\n",
      "File \u001b[0;32m~/.local/lib/python3.12/site-packages/lsdb/catalog/dataset/dataset.py:50\u001b[0m, in \u001b[0;36mDataset.compute\u001b[0;34m(self)\u001b[0m\n\u001b[1;32m     48\u001b[0m \u001b[38;5;28;01mdef\u001b[39;00m\u001b[38;5;250m \u001b[39m\u001b[38;5;21mcompute\u001b[39m(\u001b[38;5;28mself\u001b[39m) \u001b[38;5;241m-\u001b[39m\u001b[38;5;241m>\u001b[39m npd\u001b[38;5;241m.\u001b[39mNestedFrame:\n\u001b[1;32m     49\u001b[0m \u001b[38;5;250m    \u001b[39m\u001b[38;5;124;03m\"\"\"Compute dask distributed dataframe to pandas dataframe\"\"\"\u001b[39;00m\n\u001b[0;32m---> 50\u001b[0m     \u001b[38;5;28;01mreturn\u001b[39;00m \u001b[38;5;28;43mself\u001b[39;49m\u001b[38;5;241;43m.\u001b[39;49m\u001b[43m_ddf\u001b[49m\u001b[38;5;241;43m.\u001b[39;49m\u001b[43mcompute\u001b[49m\u001b[43m(\u001b[49m\u001b[43m)\u001b[49m\n",
      "File \u001b[0;32m~/.local/lib/python3.12/site-packages/lsdb/nested/core.py:437\u001b[0m, in \u001b[0;36mNestedFrame.compute\u001b[0;34m(self, **kwargs)\u001b[0m\n\u001b[1;32m    435\u001b[0m \u001b[38;5;28;01mdef\u001b[39;00m\u001b[38;5;250m \u001b[39m\u001b[38;5;21mcompute\u001b[39m(\u001b[38;5;28mself\u001b[39m, \u001b[38;5;241m*\u001b[39m\u001b[38;5;241m*\u001b[39mkwargs):\n\u001b[1;32m    436\u001b[0m \u001b[38;5;250m    \u001b[39m\u001b[38;5;124;03m\"\"\"Compute this Dask collection, returning the underlying dataframe or series.\"\"\"\u001b[39;00m\n\u001b[0;32m--> 437\u001b[0m     \u001b[38;5;28;01mreturn\u001b[39;00m npd\u001b[38;5;241m.\u001b[39mNestedFrame(\u001b[38;5;28;43msuper\u001b[39;49m\u001b[43m(\u001b[49m\u001b[43m)\u001b[49m\u001b[38;5;241;43m.\u001b[39;49m\u001b[43mcompute\u001b[49m\u001b[43m(\u001b[49m\u001b[38;5;241;43m*\u001b[39;49m\u001b[38;5;241;43m*\u001b[39;49m\u001b[43mkwargs\u001b[49m\u001b[43m)\u001b[49m)\n",
      "File \u001b[0;32m/opt/lsst/software/stack/conda/envs/lsst-scipipe-10.0.0/lib/python3.12/site-packages/dask/base.py:373\u001b[0m, in \u001b[0;36mDaskMethodsMixin.compute\u001b[0;34m(self, **kwargs)\u001b[0m\n\u001b[1;32m    349\u001b[0m \u001b[38;5;28;01mdef\u001b[39;00m\u001b[38;5;250m \u001b[39m\u001b[38;5;21mcompute\u001b[39m(\u001b[38;5;28mself\u001b[39m, \u001b[38;5;241m*\u001b[39m\u001b[38;5;241m*\u001b[39mkwargs):\n\u001b[1;32m    350\u001b[0m \u001b[38;5;250m    \u001b[39m\u001b[38;5;124;03m\"\"\"Compute this dask collection\u001b[39;00m\n\u001b[1;32m    351\u001b[0m \n\u001b[1;32m    352\u001b[0m \u001b[38;5;124;03m    This turns a lazy Dask collection into its in-memory equivalent.\u001b[39;00m\n\u001b[0;32m   (...)\u001b[0m\n\u001b[1;32m    371\u001b[0m \u001b[38;5;124;03m    dask.compute\u001b[39;00m\n\u001b[1;32m    372\u001b[0m \u001b[38;5;124;03m    \"\"\"\u001b[39;00m\n\u001b[0;32m--> 373\u001b[0m     (result,) \u001b[38;5;241m=\u001b[39m \u001b[43mcompute\u001b[49m\u001b[43m(\u001b[49m\u001b[38;5;28;43mself\u001b[39;49m\u001b[43m,\u001b[49m\u001b[43m \u001b[49m\u001b[43mtraverse\u001b[49m\u001b[38;5;241;43m=\u001b[39;49m\u001b[38;5;28;43;01mFalse\u001b[39;49;00m\u001b[43m,\u001b[49m\u001b[43m \u001b[49m\u001b[38;5;241;43m*\u001b[39;49m\u001b[38;5;241;43m*\u001b[39;49m\u001b[43mkwargs\u001b[49m\u001b[43m)\u001b[49m\n\u001b[1;32m    374\u001b[0m     \u001b[38;5;28;01mreturn\u001b[39;00m result\n",
      "File \u001b[0;32m/opt/lsst/software/stack/conda/envs/lsst-scipipe-10.0.0/lib/python3.12/site-packages/dask/base.py:681\u001b[0m, in \u001b[0;36mcompute\u001b[0;34m(traverse, optimize_graph, scheduler, get, *args, **kwargs)\u001b[0m\n\u001b[1;32m    678\u001b[0m     expr \u001b[38;5;241m=\u001b[39m expr\u001b[38;5;241m.\u001b[39moptimize()\n\u001b[1;32m    679\u001b[0m     keys \u001b[38;5;241m=\u001b[39m \u001b[38;5;28mlist\u001b[39m(flatten(expr\u001b[38;5;241m.\u001b[39m__dask_keys__()))\n\u001b[0;32m--> 681\u001b[0m     results \u001b[38;5;241m=\u001b[39m \u001b[43mschedule\u001b[49m\u001b[43m(\u001b[49m\u001b[43mexpr\u001b[49m\u001b[43m,\u001b[49m\u001b[43m \u001b[49m\u001b[43mkeys\u001b[49m\u001b[43m,\u001b[49m\u001b[43m \u001b[49m\u001b[38;5;241;43m*\u001b[39;49m\u001b[38;5;241;43m*\u001b[39;49m\u001b[43mkwargs\u001b[49m\u001b[43m)\u001b[49m\n\u001b[1;32m    683\u001b[0m \u001b[38;5;28;01mreturn\u001b[39;00m repack(results)\n",
      "File \u001b[0;32m~/.local/lib/python3.12/site-packages/lsdb/nested/core.py:550\u001b[0m, in \u001b[0;36mNestedFrame.query.<locals>.<lambda>\u001b[0;34m()\u001b[0m\n\u001b[1;32m    504\u001b[0m \u001b[38;5;28;01mdef\u001b[39;00m\u001b[38;5;250m \u001b[39m\u001b[38;5;21mquery\u001b[39m(\u001b[38;5;28mself\u001b[39m, expr) \u001b[38;5;241m-\u001b[39m\u001b[38;5;241m>\u001b[39m Self:  \u001b[38;5;66;03m# type: ignore # noqa: F821: # pylint: disable=undefined-variable\u001b[39;00m\n\u001b[1;32m    505\u001b[0m \u001b[38;5;250m    \u001b[39m\u001b[38;5;124;03m\"\"\"\u001b[39;00m\n\u001b[1;32m    506\u001b[0m \u001b[38;5;124;03m    Query the columns of a NestedFrame with a boolean expression. Specified\u001b[39;00m\n\u001b[1;32m    507\u001b[0m \u001b[38;5;124;03m    queries can target nested columns in addition to the typical column set\u001b[39;00m\n\u001b[0;32m   (...)\u001b[0m\n\u001b[1;32m    547\u001b[0m \u001b[38;5;124;03m    >>> df.query(\"mynested.a > 2\") # doctest: +SKIP\u001b[39;00m\n\u001b[1;32m    548\u001b[0m \u001b[38;5;124;03m    \"\"\"\u001b[39;00m\n\u001b[1;32m    549\u001b[0m     \u001b[38;5;28;01mreturn\u001b[39;00m \u001b[38;5;28mself\u001b[39m\u001b[38;5;241m.\u001b[39mmap_partitions(\n\u001b[0;32m--> 550\u001b[0m         \u001b[38;5;28;01mlambda\u001b[39;00m x: npd\u001b[38;5;241m.\u001b[39mNestedFrame(x)\u001b[38;5;241m.\u001b[39mquery(expr), meta\u001b[38;5;241m=\u001b[39m\u001b[38;5;28mself\u001b[39m\u001b[38;5;241m.\u001b[39m_meta\n\u001b[1;32m    551\u001b[0m     )\n",
      "File \u001b[0;32m~/.local/lib/python3.12/site-packages/nested_pandas/nestedframe/core.py:826\u001b[0m, in \u001b[0;36mquery\u001b[0;34m()\u001b[0m\n\u001b[1;32m    822\u001b[0m kwargs[\u001b[38;5;124m\"\u001b[39m\u001b[38;5;124mtarget\u001b[39m\u001b[38;5;124m\"\u001b[39m] \u001b[38;5;241m=\u001b[39m \u001b[38;5;28;01mNone\u001b[39;00m\n\u001b[1;32m    823\u001b[0m \u001b[38;5;66;03m# At present, the query expression must be either entirely within a\u001b[39;00m\n\u001b[1;32m    824\u001b[0m \u001b[38;5;66;03m# single nest, or have nothing but base columns.  Mixed structures are not\u001b[39;00m\n\u001b[1;32m    825\u001b[0m \u001b[38;5;66;03m# supported, so preflight the expression.\u001b[39;00m\n\u001b[0;32m--> 826\u001b[0m nest_names \u001b[38;5;241m=\u001b[39m \u001b[38;5;28mself\u001b[39m\u001b[38;5;241m.\u001b[39mextract_nest_names(expr, \u001b[38;5;241m*\u001b[39m\u001b[38;5;241m*\u001b[39mkwargs)\n\u001b[1;32m    827\u001b[0m \u001b[38;5;28;01mif\u001b[39;00m \u001b[38;5;28mlen\u001b[39m(nest_names) \u001b[38;5;241m>\u001b[39m \u001b[38;5;241m1\u001b[39m:\n\u001b[1;32m    828\u001b[0m     \u001b[38;5;28;01mraise\u001b[39;00m \u001b[38;5;167;01mValueError\u001b[39;00m(\u001b[38;5;124m\"\u001b[39m\u001b[38;5;124mQueries cannot target multiple structs/layers, write a separate query for each\u001b[39m\u001b[38;5;124m\"\u001b[39m)\n",
      "File \u001b[0;32m~/.local/lib/python3.12/site-packages/nested_pandas/nestedframe/core.py:750\u001b[0m, in \u001b[0;36mextract_nest_names\u001b[0;34m()\u001b[0m\n\u001b[1;32m    740\u001b[0m \u001b[38;5;66;03m# Parser needs to be the \"nested-pandas\" parser.\u001b[39;00m\n\u001b[1;32m    741\u001b[0m \u001b[38;5;66;03m# We also need the same variable context that eval() will have, so that\u001b[39;00m\n\u001b[1;32m    742\u001b[0m \u001b[38;5;66;03m# backtick-quoted names are substituted as expected.\u001b[39;00m\n\u001b[1;32m    743\u001b[0m env \u001b[38;5;241m=\u001b[39m ensure_scope(\n\u001b[1;32m    744\u001b[0m     level \u001b[38;5;241m+\u001b[39m \u001b[38;5;241m1\u001b[39m,\n\u001b[1;32m    745\u001b[0m     global_dict\u001b[38;5;241m=\u001b[39mglobal_dict,\n\u001b[0;32m   (...)\u001b[0m\n\u001b[1;32m    748\u001b[0m     target\u001b[38;5;241m=\u001b[39mtarget,\n\u001b[1;32m    749\u001b[0m )\n\u001b[0;32m--> 750\u001b[0m parsed_expr \u001b[38;5;241m=\u001b[39m Expr(expr, parser\u001b[38;5;241m=\u001b[39m\u001b[38;5;124m\"\u001b[39m\u001b[38;5;124mnested-pandas\u001b[39m\u001b[38;5;124m\"\u001b[39m, env\u001b[38;5;241m=\u001b[39menv)\n\u001b[1;32m    751\u001b[0m expr_tree \u001b[38;5;241m=\u001b[39m parsed_expr\u001b[38;5;241m.\u001b[39mterms\n\u001b[1;32m    752\u001b[0m separable \u001b[38;5;241m=\u001b[39m _subexprs_by_nest([], expr_tree)\n",
      "File \u001b[0;32m/opt/lsst/software/stack/conda/envs/lsst-scipipe-10.0.0/lib/python3.12/site-packages/pandas/core/computation/scope.py:244\u001b[0m, in \u001b[0;36mresolve\u001b[0;34m()\u001b[0m\n\u001b[1;32m    242\u001b[0m     \u001b[38;5;28;01mreturn\u001b[39;00m \u001b[38;5;28mself\u001b[39m\u001b[38;5;241m.\u001b[39mtemps[key]\n\u001b[1;32m    243\u001b[0m \u001b[38;5;28;01mexcept\u001b[39;00m \u001b[38;5;167;01mKeyError\u001b[39;00m \u001b[38;5;28;01mas\u001b[39;00m err:\n\u001b[0;32m--> 244\u001b[0m     \u001b[38;5;28;01mraise\u001b[39;00m UndefinedVariableError(key, is_local) \u001b[38;5;28;01mfrom\u001b[39;00m\u001b[38;5;250m \u001b[39m\u001b[38;5;21;01merr\u001b[39;00m\n",
      "\u001b[0;31mUndefinedVariableError\u001b[0m: name \"name 'objectForcedSource_obj' is not defined\" is not defined"
     ]
    }
   ],
   "source": [
    "with Client(n_workers=4, threads_per_worker=1) as client:\n",
    "    # Sort light curves by variable object index for plotting purposes\n",
    "    result_df = result.compute().sort_values(\"index_var_obj\")"
   ]
  },
  {
   "cell_type": "code",
   "execution_count": null,
   "id": "7c014049-397b-4b6b-9bad-292314921d57",
   "metadata": {
    "execution": {
     "iopub.status.busy": "2025-07-07T20:58:28.199783Z",
     "iopub.status.idle": "2025-07-07T20:58:28.200029Z",
     "shell.execute_reply": "2025-07-07T20:58:28.199930Z",
     "shell.execute_reply.started": "2025-07-07T20:58:28.199909Z"
    }
   },
   "outputs": [],
   "source": [
    "    result_df \n"
   ]
  },
  {
   "cell_type": "code",
   "execution_count": null,
   "id": "f4940ee8",
   "metadata": {
    "execution": {
     "iopub.status.busy": "2025-07-07T20:58:28.200690Z",
     "iopub.status.idle": "2025-07-07T20:58:28.200903Z",
     "shell.execute_reply": "2025-07-07T20:58:28.200809Z",
     "shell.execute_reply.started": "2025-07-07T20:58:28.200800Z"
    }
   },
   "outputs": [],
   "source": [
    "COLORS = {\n",
    "    \"u\": \"#56b4e9\",\n",
    "    \"g\": \"#009e73\",\n",
    "    \"r\": \"#f0e442\",\n",
    "    \"i\": \"#cc79a7\",\n",
    "    \"z\": \"#d55e00\",\n",
    "    \"y\": \"#0072b2\",\n",
    "}"
   ]
  },
  {
   "cell_type": "code",
   "execution_count": null,
   "id": "066ce27c",
   "metadata": {
    "execution": {
     "iopub.status.busy": "2025-07-07T20:58:28.201995Z",
     "iopub.status.idle": "2025-07-07T20:58:28.202275Z",
     "shell.execute_reply": "2025-07-07T20:58:28.202141Z",
     "shell.execute_reply.started": "2025-07-07T20:58:28.202128Z"
    }
   },
   "outputs": [],
   "source": [
    "def plot_mag_lightcurves(ax, row):\n",
    "    \"\"\"Plot magnitude light curves from DIA source, DIA forced source and forcedSource\"\"\"\n",
    "    # Define flux types for each dataset\n",
    "    datasets = [\n",
    "        (\"scienceFlux\", \"diaSourceTable_tract\", row.diaSource_dia),\n",
    "        (\"psfDiffFlux\", \"forcedSourceOnDiaObjectTable\", row.diaForcedSource_dia),\n",
    "        (\"psfFlux\", \"forcedSourceTable\", row.forcedSource_obj),\n",
    "    ]\n",
    "    all_mags = [[], []]  # To store magnitudes for each row\n",
    "    for i, (flux_col, table_name, lc) in enumerate(datasets):\n",
    "        title = f\"{flux_col} from {table_name}\"\n",
    "        flux_err_col = f\"{flux_col}Err\"\n",
    "        ax[0, i].set_title(title)\n",
    "        # Compute phase\n",
    "        lc = lc.assign(\n",
    "            phase=(lc.midpointMjdTai - lc.midpointMjdTai.loc[lc.psfFlux.idxmax()])\n",
    "            % row.period_var_obj\n",
    "            / row.period_var_obj\n",
    "        )\n",
    "        # First row: original light curve\n",
    "        all_mags[0].extend(\n",
    "            plot_mag_scale(\n",
    "                ax[0, i],\n",
    "                lc,\n",
    "                flux_col,\n",
    "                flux_err_col,\n",
    "                x_name=\"midpointMjdTai\",\n",
    "                x_label=\"MJD\",\n",
    "                show_legend=(i == 0),\n",
    "            )\n",
    "        )\n",
    "        # Second row: folded light curve\n",
    "        all_mags[1].extend(\n",
    "            plot_mag_scale(\n",
    "                ax[1, i], lc, flux_col, flux_err_col, x_name=\"phase\", x_label=\"Phase\"\n",
    "            )\n",
    "        )\n",
    "    return all_mags\n",
    "\n",
    "\n",
    "def plot_mag_scale(ax, lc, flux_col, flux_err_col, x_name, x_label, show_legend=False):\n",
    "    \"\"\"Plot light curves in magnitude scale\"\"\"\n",
    "    mag_values = []  # Store magnitudes for setting axis limits\n",
    "    for band, color in COLORS.items():\n",
    "        band_lc = lc.query(f\"band == '{band}'\")\n",
    "        # Compute magnitudes and errors\n",
    "        mag, magErr = create_mag_errors(band_lc[flux_col], band_lc[flux_err_col])\n",
    "        ax.errorbar(\n",
    "            band_lc[x_name],\n",
    "            mag,\n",
    "            magErr,\n",
    "            fmt=\"o\",\n",
    "            label=band,\n",
    "            color=color,\n",
    "            alpha=1,\n",
    "            markersize=5,\n",
    "            capsize=3,\n",
    "            elinewidth=1,\n",
    "        )\n",
    "        mag_values.extend(mag.dropna().values)  # Collect magnitude values\n",
    "    ax.set_xlabel(x_label)\n",
    "    ax.set_ylabel(\"Magnitude (AB)\")\n",
    "    ax.invert_yaxis()  # Magnitudes are plotted with brighter objects lower\n",
    "    if show_legend:\n",
    "        ax.legend(loc=\"lower right\", fontsize=12)  # Show legend in top-left panel only\n",
    "    return mag_values  # Return magnitudes for axis scaling\n",
    "\n",
    "\n",
    "def create_mag_errors(sciFlux, sciFluxErr):\n",
    "    \"\"\"Move flux into magnitudes and calculate the error on the magnitude\"\"\"\n",
    "    mag = u.nJy.to(u.ABmag, sciFlux)\n",
    "    upper_mag = u.nJy.to(u.ABmag, sciFlux + sciFluxErr)\n",
    "    lower_mag = u.nJy.to(u.ABmag, sciFlux - sciFluxErr)\n",
    "    magErr = -(upper_mag - lower_mag) / 2\n",
    "    return mag, magErr\n",
    "\n",
    "\n",
    "def scale_mag_y_axis(ax, all_mags):\n",
    "    \"\"\"Set uniform y-axis scaling for each plot row\"\"\"\n",
    "    for row_idx in range(2):\n",
    "        if all_mags[row_idx]:  # Ensure we have data\n",
    "            ymin, ymax = np.nanmin(all_mags[row_idx]), np.nanmax(all_mags[row_idx])\n",
    "            for i in range(3):  # Apply limits to all columns in the row\n",
    "                ax[row_idx, i].set_ylim(\n",
    "                    ymax + 0.1, ymin - 0.1\n",
    "                )  # Keep magnitude inverted"
   ]
  },
  {
   "cell_type": "code",
   "execution_count": null,
   "id": "10c29e84",
   "metadata": {
    "execution": {
     "iopub.status.busy": "2025-07-07T20:58:28.202909Z",
     "iopub.status.idle": "2025-07-07T20:58:28.203254Z",
     "shell.execute_reply": "2025-07-07T20:58:28.203109Z",
     "shell.execute_reply.started": "2025-07-07T20:58:28.203095Z"
    }
   },
   "outputs": [],
   "source": [
    "for _, row in result_df.iterrows():\n",
    "    fig, ax = plt.subplots(2, 3, figsize=(16, 8), sharex=\"row\")  # 2 rows, 3 columns\n",
    "    fig.suptitle(\n",
    "        f\"{drp_release} | RA={row.ra_var_obj:.5f}, Dec={row.dec_var_obj:.5f}\",\n",
    "        fontsize=16,\n",
    "    )\n",
    "    all_mags = plot_mag_lightcurves(ax, row)\n",
    "    scale_mag_y_axis(ax, all_mags)\n",
    "    plt.tight_layout()\n",
    "    plt.show()"
   ]
  },
  {
   "cell_type": "markdown",
   "id": "5f0eba92",
   "metadata": {},
   "source": [
    "- Find the same objects in ZTF\n",
    "- do any have photo z\n",
    "\n",
    "Excercises:\n",
    "- same, but for AGN "
   ]
  },
  {
   "cell_type": "markdown",
   "id": "46c42f0f",
   "metadata": {},
   "source": []
  },
  {
   "cell_type": "markdown",
   "id": "7b7bb8c3",
   "metadata": {},
   "source": []
  }
 ],
 "metadata": {
  "kernelspec": {
   "display_name": "LSST",
   "language": "python",
   "name": "lsst"
  },
  "language_info": {
   "codemirror_mode": {
    "name": "ipython",
    "version": 3
   },
   "file_extension": ".py",
   "mimetype": "text/x-python",
   "name": "python",
   "nbconvert_exporter": "python",
   "pygments_lexer": "ipython3",
   "version": "3.12.11"
  }
 },
 "nbformat": 4,
 "nbformat_minor": 5
}
