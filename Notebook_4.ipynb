{
 "cells": [
  {
   "cell_type": "markdown",
   "id": "b4762cac",
   "metadata": {},
   "source": [
    "Author: Neven Caplar and the LINCC Frameworks team\n",
    "\n",
    "Last updated: July 06, 2025"
   ]
  },
  {
   "cell_type": "markdown",
   "id": "760d624c",
   "metadata": {},
   "source": []
  },
  {
   "cell_type": "markdown",
   "id": "a10701fc",
   "metadata": {},
   "source": [
    "## Visualize periodic lightcurves in Rubin data"
   ]
  },
  {
   "cell_type": "markdown",
   "id": "244de769",
   "metadata": {},
   "source": []
  },
  {
   "cell_type": "code",
   "execution_count": null,
   "id": "3f797fb1",
   "metadata": {},
   "outputs": [],
   "source": [
    "import astropy.units as u\n",
    "import lsdb\n",
    "import matplotlib.pyplot as plt\n",
    "import numpy as np\n",
    "import pandas as pd\n",
    "\n",
    "from dask.distributed import Client\n",
    "from io import StringIO\n",
    "from nested_pandas import NestedDtype\n",
    "from pathlib import Path\n",
    "\n",
    "import warnings\n",
    "\n",
    "# Disable plotting warnings\n",
    "warnings.filterwarnings(\"ignore\")"
   ]
  },
  {
   "cell_type": "code",
   "execution_count": null,
   "id": "f857608f",
   "metadata": {},
   "outputs": [
    {
     "ename": "NameError",
     "evalue": "name 'lsdb' is not defined",
     "output_type": "error",
     "traceback": [
      "\u001b[0;31m---------------------------------------------------------------------------\u001b[0m",
      "\u001b[0;31mNameError\u001b[0m                                 Traceback (most recent call last)",
      "Cell \u001b[0;32mIn[1], line 1\u001b[0m\n\u001b[0;32m----> 1\u001b[0m obj_catalog \u001b[38;5;241m=\u001b[39m \u001b[43mlsdb\u001b[49m\u001b[38;5;241m.\u001b[39mread_hats(hats_path \u001b[38;5;241m/\u001b[39m \u001b[38;5;124m\"\u001b[39m\u001b[38;5;124mobject_lc\u001b[39m\u001b[38;5;124m\"\u001b[39m)\n\u001b[1;32m      2\u001b[0m dia_catalog \u001b[38;5;241m=\u001b[39m lsdb\u001b[38;5;241m.\u001b[39mread_hats(hats_path \u001b[38;5;241m/\u001b[39m \u001b[38;5;124m\"\u001b[39m\u001b[38;5;124mdiaObject_lc\u001b[39m\u001b[38;5;124m\"\u001b[39m)\n",
      "\u001b[0;31mNameError\u001b[0m: name 'lsdb' is not defined"
     ]
    }
   ],
   "source": [
    "# TODO: Update the path to your LSDB data\n",
    "obj_catalog = lsdb.read_hats(hats_path / \"object_lc\")\n",
    "dia_catalog = lsdb.read_hats(hats_path / \"diaObject_lc\")"
   ]
  },
  {
   "cell_type": "code",
   "execution_count": null,
   "id": "9ec076fa",
   "metadata": {},
   "outputs": [],
   "source": []
  },
  {
   "cell_type": "markdown",
   "id": "0c87f6fa",
   "metadata": {},
   "source": [
    "### Choose the variable objects"
   ]
  },
  {
   "cell_type": "markdown",
   "id": "edddfea0",
   "metadata": {},
   "source": [
    "We have a selection of 10 variable objects, which were found from previous analysis of forced photometry on science images"
   ]
  },
  {
   "cell_type": "code",
   "execution_count": 2,
   "id": "e37d323b",
   "metadata": {},
   "outputs": [
    {
     "ename": "NameError",
     "evalue": "name 'pd' is not defined",
     "output_type": "error",
     "traceback": [
      "\u001b[0;31m---------------------------------------------------------------------------\u001b[0m",
      "\u001b[0;31mNameError\u001b[0m                                 Traceback (most recent call last)",
      "Cell \u001b[0;32mIn[2], line 15\u001b[0m\n\u001b[1;32m      1\u001b[0m variables_csv \u001b[38;5;241m=\u001b[39m \u001b[38;5;124m\"\"\"\u001b[39m\u001b[38;5;124mra,dec,period\u001b[39m\n\u001b[1;32m      2\u001b[0m \u001b[38;5;124m94.95546,-24.73952,0.12095\u001b[39m\n\u001b[1;32m      3\u001b[0m \u001b[38;5;124m95.30235,-25.27431,0.12248\u001b[39m\n\u001b[0;32m   (...)\u001b[0m\n\u001b[1;32m     11\u001b[0m \u001b[38;5;124m94.72086,-25.05767,0.17554\u001b[39m\n\u001b[1;32m     12\u001b[0m \u001b[38;5;124m\"\"\"\u001b[39m\n\u001b[1;32m     13\u001b[0m \u001b[38;5;66;03m# We add the index as a column of the DataFrame so we can later retrieve\u001b[39;00m\n\u001b[1;32m     14\u001b[0m \u001b[38;5;66;03m# all the Rubin data from difference and science imaging\u001b[39;00m\n\u001b[0;32m---> 15\u001b[0m variables_df \u001b[38;5;241m=\u001b[39m \u001b[43mpd\u001b[49m\u001b[38;5;241m.\u001b[39mread_csv(StringIO(variables_csv))\u001b[38;5;241m.\u001b[39mreset_index()\n\u001b[1;32m     16\u001b[0m \u001b[38;5;66;03m# Transform the DataFrame into a LSDB Catalog\u001b[39;00m\n\u001b[1;32m     17\u001b[0m variables_catalog \u001b[38;5;241m=\u001b[39m lsdb\u001b[38;5;241m.\u001b[39mfrom_dataframe(variables_df)\n",
      "\u001b[0;31mNameError\u001b[0m: name 'pd' is not defined"
     ]
    }
   ],
   "source": [
    "variables_csv = \"\"\"ra,dec,period\n",
    "94.95546,-24.73952,0.12095\n",
    "95.30235,-25.27431,0.12248\n",
    "94.91626,-24.69648,0.12038\n",
    "95.12418,-25.04329,0.23554\n",
    "58.83506,-48.79122,0.56335\n",
    "94.92264,-25.23185,0.07672\n",
    "94.72086,-25.05767,0.17559\n",
    "94.97073,-25.13643,0.12048\n",
    "59.12997,-48.78522,0.11628\n",
    "94.72086,-25.05767,0.17554\n",
    "\"\"\"\n",
    "# We add the index as a column of the DataFrame so we can later retrieve\n",
    "# all the Rubin data from difference and science imaging\n",
    "variables_df = pd.read_csv(StringIO(variables_csv)).reset_index()\n",
    "# Transform the DataFrame into a LSDB Catalog\n",
    "variables_catalog = lsdb.from_dataframe(variables_df)"
   ]
  },
  {
   "cell_type": "code",
   "execution_count": null,
   "id": "bf54e8c3",
   "metadata": {},
   "outputs": [],
   "source": [
    "XMATCH_RADIUS_ARCSEC = 0.2\n",
    "variable_object = variables_catalog.crossmatch(\n",
    "    obj_catalog, radius_arcsec=XMATCH_RADIUS_ARCSEC, suffixes=[\"_var\", \"\"]\n",
    ")\n",
    "variable_dia = variables_catalog.crossmatch(\n",
    "    dia_catalog, radius_arcsec=XMATCH_RADIUS_ARCSEC, suffixes=[\"_var\", \"\"]\n",
    ")\n",
    "# The result will have all the columns in obj_catalog suffixed with `_obj`,\n",
    "# all the columns in dia_catalog suffixed with `_dia`, as well as all the\n",
    "# columns in `variables_df` suffixed with `_var_obj`\n",
    "result = variable_object.join(\n",
    "    variable_dia, left_on=\"index_var\", right_on=\"index_var\", suffixes=[\"_obj\", \"_dia\"]\n",
    ")"
   ]
  },
  {
   "cell_type": "markdown",
   "id": "6f5c62a6",
   "metadata": {},
   "source": [
    "And apply filtering according to the quality flags:"
   ]
  },
  {
   "cell_type": "code",
   "execution_count": null,
   "id": "97972128",
   "metadata": {},
   "outputs": [],
   "source": [
    "for column in [\"forcedSource_obj\", \"diaSource_dia\", \"diaForcedSource_dia\"]:\n",
    "    result = result.query(\n",
    "        f\"~{column}.psfFlux_flag\"\n",
    "        f\" and ~{column}.pixelFlags_saturated\"\n",
    "        f\" and ~{column}.pixelFlags_cr\"\n",
    "        f\" and ~{column}.pixelFlags_bad\"\n",
    "    )"
   ]
  },
  {
   "cell_type": "code",
   "execution_count": null,
   "id": "f4940ee8",
   "metadata": {},
   "outputs": [],
   "source": [
    "COLORS = {\n",
    "    \"u\": \"#56b4e9\",\n",
    "    \"g\": \"#009e73\",\n",
    "    \"r\": \"#f0e442\",\n",
    "    \"i\": \"#cc79a7\",\n",
    "    \"z\": \"#d55e00\",\n",
    "    \"y\": \"#0072b2\",\n",
    "}"
   ]
  },
  {
   "cell_type": "code",
   "execution_count": null,
   "id": "066ce27c",
   "metadata": {},
   "outputs": [],
   "source": [
    "def plot_mag_lightcurves(ax, row):\n",
    "    \"\"\"Plot magnitude light curves from DIA source, DIA forced source and forcedSource\"\"\"\n",
    "    # Define flux types for each dataset\n",
    "    datasets = [\n",
    "        (\"scienceFlux\", \"diaSourceTable_tract\", row.diaSource_dia),\n",
    "        (\"psfDiffFlux\", \"forcedSourceOnDiaObjectTable\", row.diaForcedSource_dia),\n",
    "        (\"psfFlux\", \"forcedSourceTable\", row.forcedSource_obj),\n",
    "    ]\n",
    "    all_mags = [[], []]  # To store magnitudes for each row\n",
    "    for i, (flux_col, table_name, lc) in enumerate(datasets):\n",
    "        title = f\"{flux_col} from {table_name}\"\n",
    "        flux_err_col = f\"{flux_col}Err\"\n",
    "        ax[0, i].set_title(title)\n",
    "        # Compute phase\n",
    "        lc = lc.assign(\n",
    "            phase=(lc.midpointMjdTai - lc.midpointMjdTai.loc[lc.psfFlux.idxmax()])\n",
    "            % row.period_var_obj\n",
    "            / row.period_var_obj\n",
    "        )\n",
    "        # First row: original light curve\n",
    "        all_mags[0].extend(\n",
    "            plot_mag_scale(\n",
    "                ax[0, i],\n",
    "                lc,\n",
    "                flux_col,\n",
    "                flux_err_col,\n",
    "                x_name=\"midpointMjdTai\",\n",
    "                x_label=\"MJD\",\n",
    "                show_legend=(i == 0),\n",
    "            )\n",
    "        )\n",
    "        # Second row: folded light curve\n",
    "        all_mags[1].extend(\n",
    "            plot_mag_scale(\n",
    "                ax[1, i], lc, flux_col, flux_err_col, x_name=\"phase\", x_label=\"Phase\"\n",
    "            )\n",
    "        )\n",
    "    return all_mags\n",
    "\n",
    "\n",
    "def plot_mag_scale(ax, lc, flux_col, flux_err_col, x_name, x_label, show_legend=False):\n",
    "    \"\"\"Plot light curves in magnitude scale\"\"\"\n",
    "    mag_values = []  # Store magnitudes for setting axis limits\n",
    "    for band, color in COLORS.items():\n",
    "        band_lc = lc.query(f\"band == '{band}'\")\n",
    "        # Compute magnitudes and errors\n",
    "        mag, magErr = create_mag_errors(band_lc[flux_col], band_lc[flux_err_col])\n",
    "        ax.errorbar(\n",
    "            band_lc[x_name],\n",
    "            mag,\n",
    "            magErr,\n",
    "            fmt=\"o\",\n",
    "            label=band,\n",
    "            color=color,\n",
    "            alpha=1,\n",
    "            markersize=5,\n",
    "            capsize=3,\n",
    "            elinewidth=1,\n",
    "        )\n",
    "        mag_values.extend(mag.dropna().values)  # Collect magnitude values\n",
    "    ax.set_xlabel(x_label)\n",
    "    ax.set_ylabel(\"Magnitude (AB)\")\n",
    "    ax.invert_yaxis()  # Magnitudes are plotted with brighter objects lower\n",
    "    if show_legend:\n",
    "        ax.legend(loc=\"lower right\", fontsize=12)  # Show legend in top-left panel only\n",
    "    return mag_values  # Return magnitudes for axis scaling\n",
    "\n",
    "\n",
    "def create_mag_errors(sciFlux, sciFluxErr):\n",
    "    \"\"\"Move flux into magnitudes and calculate the error on the magnitude\"\"\"\n",
    "    mag = u.nJy.to(u.ABmag, sciFlux)\n",
    "    upper_mag = u.nJy.to(u.ABmag, sciFlux + sciFluxErr)\n",
    "    lower_mag = u.nJy.to(u.ABmag, sciFlux - sciFluxErr)\n",
    "    magErr = -(upper_mag - lower_mag) / 2\n",
    "    return mag, magErr\n",
    "\n",
    "\n",
    "def scale_mag_y_axis(ax, all_mags):\n",
    "    \"\"\"Set uniform y-axis scaling for each plot row\"\"\"\n",
    "    for row_idx in range(2):\n",
    "        if all_mags[row_idx]:  # Ensure we have data\n",
    "            ymin, ymax = np.nanmin(all_mags[row_idx]), np.nanmax(all_mags[row_idx])\n",
    "            for i in range(3):  # Apply limits to all columns in the row\n",
    "                ax[row_idx, i].set_ylim(\n",
    "                    ymax + 0.1, ymin - 0.1\n",
    "                )  # Keep magnitude inverted"
   ]
  },
  {
   "cell_type": "code",
   "execution_count": null,
   "id": "10c29e84",
   "metadata": {},
   "outputs": [],
   "source": [
    "for _, row in result_df.iterrows():\n",
    "    fig, ax = plt.subplots(2, 3, figsize=(16, 8), sharex=\"row\")  # 2 rows, 3 columns\n",
    "    fig.suptitle(\n",
    "        f\"{drp_release} | RA={row.ra_var_obj:.5f}, Dec={row.dec_var_obj:.5f}\",\n",
    "        fontsize=16,\n",
    "    )\n",
    "    all_mags = plot_mag_lightcurves(ax, row)\n",
    "    scale_mag_y_axis(ax, all_mags)\n",
    "    plt.tight_layout()\n",
    "    plt.show()"
   ]
  },
  {
   "cell_type": "markdown",
   "id": "5f0eba92",
   "metadata": {},
   "source": [
    "- Find the same objects in ZTF\n",
    "- do any have photo z\n",
    "\n",
    "Excercises:\n",
    "- same, but for AGN "
   ]
  },
  {
   "cell_type": "markdown",
   "id": "46c42f0f",
   "metadata": {},
   "source": []
  },
  {
   "cell_type": "markdown",
   "id": "7b7bb8c3",
   "metadata": {},
   "source": []
  }
 ],
 "metadata": {
  "kernelspec": {
   "display_name": "Python 3 (ipykernel)",
   "language": "python",
   "name": "python3"
  },
  "language_info": {
   "codemirror_mode": {
    "name": "ipython",
    "version": 3
   },
   "file_extension": ".py",
   "mimetype": "text/x-python",
   "name": "python",
   "nbconvert_exporter": "python",
   "pygments_lexer": "ipython3",
   "version": "3.12.9"
  }
 },
 "nbformat": 4,
 "nbformat_minor": 5
}
