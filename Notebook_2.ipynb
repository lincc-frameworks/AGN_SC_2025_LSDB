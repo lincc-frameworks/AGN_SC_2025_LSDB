{
 "cells": [
  {
   "cell_type": "code",
   "execution_count": null,
   "id": "81d3fe26",
   "metadata": {},
   "outputs": [],
   "source": [
    "https://github.com/lincc-frameworks/scipy-2025-lsdb-nested.git"
   ]
  },
  {
   "cell_type": "markdown",
   "id": "995e4cf0",
   "metadata": {},
   "source": [
    "# Introduction to Nested-Pandas\n",
    "\n",
    "This notebook explores the Nested-Pandas API, showing the basics of nesting data and touring the various ways of working with nested data.\n",
    "\n",
    "Draft Outline Below:"
   ]
  },
  {
   "cell_type": "markdown",
   "id": "3645e631",
   "metadata": {},
   "source": [
    "## Exploring the NestedFrame Interface"
   ]
  },
  {
   "cell_type": "code",
   "execution_count": 1,
   "id": "03af6b87",
   "metadata": {},
   "outputs": [
    {
     "name": "stderr",
     "output_type": "stream",
     "text": [
      "INFO:numexpr.utils:Note: detected 128 virtual cores but NumExpr set to maximum of 64, check \"NUMEXPR_MAX_THREADS\" environment variable.\n",
      "INFO:numexpr.utils:Note: NumExpr detected 128 cores but \"NUMEXPR_MAX_THREADS\" not set, so enforcing safe limit of 16.\n",
      "INFO:numexpr.utils:NumExpr defaulting to 16 threads.\n"
     ]
    }
   ],
   "source": [
    "import nested_pandas as npd\n",
    "import light_curve as licu\n",
    "import pandas as pd\n",
    "import numpy as np\n",
    "\n",
    "from nested_pandas.utils import count_nested"
   ]
  },
  {
   "cell_type": "code",
   "execution_count": null,
   "id": "fc8c44bd",
   "metadata": {},
   "outputs": [],
   "source": [
    "# Load an example dataset\n",
    "from nested_pandas.datasets import generate_data\n",
    "ndf = generate_data(50,100, seed=1)\n",
    "ndf"
   ]
  },
  {
   "cell_type": "markdown",
   "id": "98016d48",
   "metadata": {},
   "source": [
    "## Hands-on Scientific Example: Variability Analysis"
   ]
  },
  {
   "cell_type": "markdown",
   "id": "82581517",
   "metadata": {},
   "source": [
    "### Load ZTF Timeseries Data"
   ]
  },
  {
   "cell_type": "code",
   "execution_count": null,
   "id": "c59802d0",
   "metadata": {},
   "outputs": [],
   "source": []
  },
  {
   "cell_type": "markdown",
   "id": "7cdb64d0",
   "metadata": {},
   "source": [
    "### Perform Initial Filtering"
   ]
  },
  {
   "cell_type": "code",
   "execution_count": null,
   "id": "27126822",
   "metadata": {},
   "outputs": [],
   "source": []
  },
  {
   "cell_type": "markdown",
   "id": "74c343b0",
   "metadata": {},
   "source": [
    "### Calculate Periodograms for all Lightcurves"
   ]
  },
  {
   "cell_type": "markdown",
   "id": "320a49a4",
   "metadata": {},
   "source": []
  },
  {
   "cell_type": "markdown",
   "id": "67088fad",
   "metadata": {},
   "source": [
    "### Visualizing Results"
   ]
  },
  {
   "cell_type": "markdown",
   "id": "308100d1",
   "metadata": {},
   "source": []
  },
  {
   "cell_type": "markdown",
   "id": "9fd667cd",
   "metadata": {},
   "source": [
    "### Using Results to Modify our NestedFrame"
   ]
  },
  {
   "cell_type": "markdown",
   "id": "23f4dc92",
   "metadata": {},
   "source": []
  }
 ],
 "metadata": {
  "kernelspec": {
   "display_name": "Python 3 (ipykernel)",
   "language": "python",
   "name": "python3"
  }
 },
 "nbformat": 4,
 "nbformat_minor": 5
}
