{
 "cells": [
  {
   "cell_type": "markdown",
   "id": "0c7a6a09",
   "metadata": {},
   "source": [
    "Author: Doug Branton?, Neven Caplar and the LINCC Frameworks team\n",
    "\n",
    "Last updated: July 06, 2025"
   ]
  },
  {
   "cell_type": "markdown",
   "id": "995e4cf0",
   "metadata": {},
   "source": [
    "# Introduction to Nested-Pandas\n",
    "\n",
    "This notebook explores the Nested-Pandas API, showing the basics of nesting data and touring the various ways of working with nested data.\n",
    "\n",
    "In this notebook we'll show how to:\n",
    "- Generate example data\n",
    "- Understand nested-pandas dataframe\n",
    "- Do filtering\n",
    "- Run a function over nested dataframes\n",
    "- Brin the result back and merge to our nested dataframe"
   ]
  },
  {
   "cell_type": "markdown",
   "id": "3645e631",
   "metadata": {},
   "source": [
    "## Exploring the NestedFrame Interface"
   ]
  },
  {
   "cell_type": "code",
   "execution_count": 2,
   "id": "03af6b87",
   "metadata": {},
   "outputs": [],
   "source": [
    "import nested_pandas as npd0\n",
    "# import light_curve as licu\n",
    "import pandas as pd\n",
    "import numpy as np\n",
    "\n",
    "from nested_pandas.utils import count_nested"
   ]
  },
  {
   "cell_type": "code",
   "execution_count": 5,
   "id": "6a04667c",
   "metadata": {},
   "outputs": [],
   "source": [
    "# Define the six fields from Data Preview 1 with RA and Dec coordinates\n",
    "fields = {\n",
    "    \"ECDFS\": (53.13, -28.10),  # Extended Chandra Deep Field South\n",
    "    \"EDFS\": (59.10, -48.73),  # Euclid Deep Field South\n",
    "    \"Rubin_SV_38_7\": (37.86, 6.98),  # Low Ecliptic Latitude Field\n",
    "    \"Rubin_SV_95_-25\": (95.00, -25.00),  # Low Galactic Latitude Field\n",
    "    \"47_Tuc\": (6.02, -72.08),  # 47 Tuc Globular Cluster\n",
    "    \"Fornax_dSph\": (40.00, -34.45)  # Fornax Dwarf Spheroidal Galaxy\n",
    "}\n",
    "\n",
    "# Define a 2-degree (2*3600 arcseconds) search radius\n",
    "radius_arcsec = 2 * 3600  # Convert 2 degree to arcseconds\n",
    "# Create six cone searches\n",
    "# cones = {name: ConeSearch(ra=ra, dec=dec, radius_arcsec=radius_arcsec) for name, (ra, dec) in fields.items()}"
   ]
  },
  {
   "cell_type": "code",
   "execution_count": 3,
   "id": "fc8c44bd",
   "metadata": {},
   "outputs": [
    {
     "data": {
      "text/html": [
       "<style type=\"text/css\">\n",
       "</style>\n",
       "<table id=\"T_d90e8\">\n",
       "  <thead>\n",
       "    <tr>\n",
       "      <th class=\"blank level0\" >&nbsp;</th>\n",
       "      <th id=\"T_d90e8_level0_col0\" class=\"col_heading level0 col0\" >a</th>\n",
       "      <th id=\"T_d90e8_level0_col1\" class=\"col_heading level0 col1\" >b</th>\n",
       "      <th id=\"T_d90e8_level0_col2\" class=\"col_heading level0 col2\" >nested</th>\n",
       "    </tr>\n",
       "  </thead>\n",
       "  <tbody>\n",
       "    <tr>\n",
       "      <th id=\"T_d90e8_level0_row0\" class=\"row_heading level0 row0\" >0</th>\n",
       "      <td id=\"T_d90e8_row0_col0\" class=\"data row0 col0\" >0.417022</td>\n",
       "      <td id=\"T_d90e8_row0_col1\" class=\"data row0 col1\" >0.038734</td>\n",
       "      <td id=\"T_d90e8_row0_col2\" class=\"data row0 col2\" ><table border=\"1\" class=\"dataframe\">\n",
       "  <thead>\n",
       "    <tr style=\"text-align: right;\">\n",
       "      <th>t</th>\n",
       "      <th>flux</th>\n",
       "      <th>band</th>\n",
       "    </tr>\n",
       "  </thead>\n",
       "  <tbody>\n",
       "    <tr>\n",
       "      <td>6.532898</td>\n",
       "      <td>77.388964</td>\n",
       "      <td>r</td>\n",
       "    </tr>\n",
       "    <tr>\n",
       "      <td><i>+99 rows</i></td>\n",
       "      <td>...</td>\n",
       "      <td>...</td>\n",
       "    </tr>\n",
       "  </tbody>\n",
       "</table></td>\n",
       "    </tr>\n",
       "    <tr>\n",
       "      <th id=\"T_d90e8_level0_row1\" class=\"row_heading level0 row1\" >1</th>\n",
       "      <td id=\"T_d90e8_row1_col0\" class=\"data row1 col0\" >0.720324</td>\n",
       "      <td id=\"T_d90e8_row1_col1\" class=\"data row1 col1\" >1.357671</td>\n",
       "      <td id=\"T_d90e8_row1_col2\" class=\"data row1 col2\" ><table border=\"1\" class=\"dataframe\">\n",
       "  <thead>\n",
       "    <tr style=\"text-align: right;\">\n",
       "      <th>t</th>\n",
       "      <th>flux</th>\n",
       "      <th>band</th>\n",
       "    </tr>\n",
       "  </thead>\n",
       "  <tbody>\n",
       "    <tr>\n",
       "      <td>10.541162</td>\n",
       "      <td>82.03493</td>\n",
       "      <td>r</td>\n",
       "    </tr>\n",
       "    <tr>\n",
       "      <td><i>+99 rows</i></td>\n",
       "      <td>...</td>\n",
       "      <td>...</td>\n",
       "    </tr>\n",
       "  </tbody>\n",
       "</table></td>\n",
       "    </tr>\n",
       "    <tr>\n",
       "      <th id=\"T_d90e8_level0_row2\" class=\"row_heading level0 row2\" >2</th>\n",
       "      <td id=\"T_d90e8_row2_col0\" class=\"data row2 col0\" >0.000114</td>\n",
       "      <td id=\"T_d90e8_row2_col1\" class=\"data row2 col1\" >0.423256</td>\n",
       "      <td id=\"T_d90e8_row2_col2\" class=\"data row2 col2\" ><table border=\"1\" class=\"dataframe\">\n",
       "  <thead>\n",
       "    <tr style=\"text-align: right;\">\n",
       "      <th>t</th>\n",
       "      <th>flux</th>\n",
       "      <th>band</th>\n",
       "    </tr>\n",
       "  </thead>\n",
       "  <tbody>\n",
       "    <tr>\n",
       "      <td>17.718842</td>\n",
       "      <td>85.162961</td>\n",
       "      <td>r</td>\n",
       "    </tr>\n",
       "    <tr>\n",
       "      <td><i>+99 rows</i></td>\n",
       "      <td>...</td>\n",
       "      <td>...</td>\n",
       "    </tr>\n",
       "  </tbody>\n",
       "</table></td>\n",
       "    </tr>\n",
       "    <tr>\n",
       "      <th id=\"T_d90e8_level0_row3\" class=\"row_heading level0 row3\" >3</th>\n",
       "      <td id=\"T_d90e8_row3_col0\" class=\"data row3 col0\" >0.302333</td>\n",
       "      <td id=\"T_d90e8_row3_col1\" class=\"data row3 col1\" >0.531093</td>\n",
       "      <td id=\"T_d90e8_row3_col2\" class=\"data row3 col2\" ><table border=\"1\" class=\"dataframe\">\n",
       "  <thead>\n",
       "    <tr style=\"text-align: right;\">\n",
       "      <th>t</th>\n",
       "      <th>flux</th>\n",
       "      <th>band</th>\n",
       "    </tr>\n",
       "  </thead>\n",
       "  <tbody>\n",
       "    <tr>\n",
       "      <td>7.145395</td>\n",
       "      <td>15.152488</td>\n",
       "      <td>r</td>\n",
       "    </tr>\n",
       "    <tr>\n",
       "      <td><i>+99 rows</i></td>\n",
       "      <td>...</td>\n",
       "      <td>...</td>\n",
       "    </tr>\n",
       "  </tbody>\n",
       "</table></td>\n",
       "    </tr>\n",
       "    <tr>\n",
       "      <th id=\"T_d90e8_level0_row4\" class=\"row_heading level0 row4\" >4</th>\n",
       "      <td id=\"T_d90e8_row4_col0\" class=\"data row4 col0\" >0.146756</td>\n",
       "      <td id=\"T_d90e8_row4_col1\" class=\"data row4 col1\" >0.983146</td>\n",
       "      <td id=\"T_d90e8_row4_col2\" class=\"data row4 col2\" ><table border=\"1\" class=\"dataframe\">\n",
       "  <thead>\n",
       "    <tr style=\"text-align: right;\">\n",
       "      <th>t</th>\n",
       "      <th>flux</th>\n",
       "      <th>band</th>\n",
       "    </tr>\n",
       "  </thead>\n",
       "  <tbody>\n",
       "    <tr>\n",
       "      <td>18.170703</td>\n",
       "      <td>89.003664</td>\n",
       "      <td>r</td>\n",
       "    </tr>\n",
       "    <tr>\n",
       "      <td><i>+99 rows</i></td>\n",
       "      <td>...</td>\n",
       "      <td>...</td>\n",
       "    </tr>\n",
       "  </tbody>\n",
       "</table></td>\n",
       "    </tr>\n",
       "    <tr>\n",
       "      <th class=\"row_heading level0 row_trim\" >...</th>\n",
       "      <td class=\"data col0 row_trim\" >...</td>\n",
       "      <td class=\"data col1 row_trim\" >...</td>\n",
       "      <td class=\"data col2 row_trim\" >...</td>\n",
       "    </tr>\n",
       "  </tbody>\n",
       "</table>\n",
       "50 rows x 3 columns"
      ],
      "text/plain": [
       "           a         b                                             nested\n",
       "0   0.417022  0.038734  [{t: 6.532898, flux: 77.388964, band: 'r'}; …]...\n",
       "1   0.720324  1.357671  [{t: 10.541162, flux: 82.03493, band: 'r'}; …]...\n",
       "..       ...       ...                                                ...\n",
       "48  0.287775  0.005741  [{t: 11.19434, flux: 11.946375, band: 'r'}; …]...\n",
       "49  0.130029  1.234290  [{t: 0.25112, flux: 94.006251, band: 'g'}; …] ...\n",
       "\n",
       "[50 rows x 3 columns]"
      ]
     },
     "execution_count": 3,
     "metadata": {},
     "output_type": "execute_result"
    }
   ],
   "source": [
    "# Load an example dataset\n",
    "from nested_pandas.datasets import generate_data\n",
    "ndf = generate_data(50,100, seed=1)\n",
    "ndf"
   ]
  },
  {
   "cell_type": "markdown",
   "id": "98016d48",
   "metadata": {},
   "source": [
    "## Hands-on Scientific Example: Variability Analysis"
   ]
  },
  {
   "cell_type": "markdown",
   "id": "82581517",
   "metadata": {},
   "source": [
    "### Load ZTF Timeseries Data"
   ]
  },
  {
   "cell_type": "code",
   "execution_count": null,
   "id": "c59802d0",
   "metadata": {},
   "outputs": [],
   "source": [
    "# only Load data around ra_center, dec_center = cones[\"Rubin_SV_95_-25\"].ra, cones[\"Rubin_SV_95_-25\"].dec"
   ]
  },
  {
   "cell_type": "markdown",
   "id": "7cdb64d0",
   "metadata": {},
   "source": [
    "### Perform Initial Filtering"
   ]
  },
  {
   "cell_type": "code",
   "execution_count": null,
   "id": "27126822",
   "metadata": {},
   "outputs": [],
   "source": [
    "# perhaps given length, brigther than 20 mag "
   ]
  },
  {
   "cell_type": "markdown",
   "id": "74c343b0",
   "metadata": {},
   "source": [
    "### Calculate Periodograms for all Lightcurves"
   ]
  },
  {
   "cell_type": "markdown",
   "id": "320a49a4",
   "metadata": {},
   "source": []
  },
  {
   "cell_type": "markdown",
   "id": "67088fad",
   "metadata": {},
   "source": [
    "### Visualizing Results"
   ]
  },
  {
   "cell_type": "markdown",
   "id": "308100d1",
   "metadata": {},
   "source": []
  },
  {
   "cell_type": "markdown",
   "id": "9fd667cd",
   "metadata": {},
   "source": [
    "### Using Results to Modify our NestedFrame"
   ]
  },
  {
   "cell_type": "markdown",
   "id": "23f4dc92",
   "metadata": {},
   "source": []
  }
 ],
 "metadata": {
  "kernelspec": {
   "display_name": "Python 3 (ipykernel)",
   "language": "python",
   "name": "python3"
  },
  "language_info": {
   "codemirror_mode": {
    "name": "ipython",
    "version": 3
   },
   "file_extension": ".py",
   "mimetype": "text/x-python",
   "name": "python",
   "nbconvert_exporter": "python",
   "pygments_lexer": "ipython3",
   "version": "3.12.11"
  }
 },
 "nbformat": 4,
 "nbformat_minor": 5
}
