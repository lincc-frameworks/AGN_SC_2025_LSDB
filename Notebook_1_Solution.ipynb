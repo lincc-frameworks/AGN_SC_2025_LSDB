{
 "cells": [
  {
   "cell_type": "code",
   "execution_count": null,
   "id": "125159e4-8a14-4dad-b2b0-248f807ca55a",
   "metadata": {},
   "outputs": [],
   "source": []
  },
  {
   "cell_type": "code",
   "execution_count": null,
   "id": "1c71e5e2-0eb4-4695-bb30-f64ee19a8736",
   "metadata": {},
   "outputs": [],
   "source": [
    "# load gaia_ztf_xmatch "
   ]
  },
  {
   "cell_type": "code",
   "execution_count": null,
   "id": "5474eaef-df07-4d54-9a2f-7bbadaf972c8",
   "metadata": {},
   "outputs": [],
   "source": [
    "# We load the gaia-ztf crossmatch that we just computed in lsdb, and avaliable Rubin catalogs\n",
    "\n",
    "gaia_ztf_xmatch_lsdb = lsdb.from_dataframe(gaia_ztf_xmatch,  ra_column=\"ra_gaia\", dec_column=\"dec_gaia\");\n",
    "# TODO replace path with the correct one\n",
    "rubin_object_path = '/rubin/lincc_lsb_data/object_collection/'\n",
    "rubin = lsdb.open_catalog(rubin_object_path, columns=['coord_ra', 'coord_dec'])"
   ]
  },
  {
   "cell_type": "code",
   "execution_count": null,
   "id": "21c9702a-ecd8-46db-b1c5-29c4b39899dc",
   "metadata": {},
   "outputs": [],
   "source": [
    "# And now we crossmatch with Rubin data!\n",
    "rubin_gaia_ztf = gaia_ztf_xmatch_lsdb.crossmatch(rubin)\n",
    "rubin_gaia_ztf_computed = rubin_gaia_ztf.compute()"
   ]
  },
  {
   "cell_type": "code",
   "execution_count": null,
   "id": "e9e309c2-6f21-4680-93d9-c498f39a24cf",
   "metadata": {},
   "outputs": [],
   "source": [
    "# Here it is, the final dataframe with the crossmatch of Rubin, Gaia and ZTF\n",
    "rubin_gaia_ztf_computed"
   ]
  },
  {
   "cell_type": "code",
   "execution_count": null,
   "id": "6b21fe8f-a48b-4e91-8d8d-ec4c32526f77",
   "metadata": {},
   "outputs": [],
   "source": [
    "# Extract the center coordinates from the cones dictionary for Rubin_SV_95_-25\n",
    "ra_center, dec_center = cones[\"Rubin_SV_95_-25\"].ra, cones[\"Rubin_SV_95_-25\"].dec\n",
    "center = SkyCoord(ra=ra_center * u.deg, dec=dec_center * u.deg, frame=\"icrs\")\n",
    "\n",
    "# Create the figure\n",
    "plt.figure(figsize=(10, 8))\n",
    "\n",
    "# Main scatter plots\n",
    "plt.scatter(rubin_gaia_ztf_computed[\"ra_gaia_from_lsdb_dataframe\"].values,\\\n",
    "    rubin_gaia_ztf_computed[\"dec_gaia_from_lsdb_dataframe\"].values, color=\"red\", s=12, label=\"ZTF-GAIA Crossmatched\")\n",
    "plt.scatter(gaia_ztf_xmatch[\"ra_gaia\"].values, gaia_ztf_xmatch[\"dec_gaia\"].values, color=\"black\", s=3, label=\"Rubin-ZTF-GAIA Crossmatched\")\n",
    "\n",
    "# Plot a 0.7-degree radius circle around the center\n",
    "circle_coord = center.directional_offset_by(\n",
    "    position_angle=np.linspace(0, 360, 100) * u.deg, separation=.7 * u.deg\n",
    ")\n",
    "plt.plot(circle_coord.ra.deg, circle_coord.dec.deg, color=\"orange\", lw=3, label=\"0.7° around center of Rubin SV_95_-25\")\n",
    "\n",
    "# Ensure axis limits are set correctly (adjusting around the field center)\n",
    "plt.axis([ra_center - 1, ra_center + 1, dec_center - 1, dec_center + 1])  \n",
    "plt.gca().set_autoscale_on(False)  # Prevent auto-rescaling\n",
    "\n",
    "# Ensure equal aspect ratio for RA and Dec\n",
    "plt.gca().set_aspect(\"equal\", adjustable=\"datalim\")\n",
    "# Labels and legend with bigger font and matching labels\n",
    "legend_labels = [\"ZTF-GAIA Crossmatched\", \"Rubin-ZTF-GAIA Crossmatched\", \"0.7° around center of Rubin SV_95_-25\"]\n",
    "legend_colors = [\"black\", \"blue\", \"red\"]\n",
    "legend_handles = [\n",
    "    plt.Line2D([0], [1], color=\"black\", marker=\"o\", linestyle=\"None\", markersize=6, label=\"ZTF-GAIA Crossmatched\"),\n",
    "    plt.Line2D([0], [1], color=\"red\", marker=\"o\", linestyle=\"None\", markersize=6, label=\"Rubin-ZTF-GAIA Crossmatched\"),\n",
    "    plt.Line2D([0], [1], color=\"orange\", lw=3, linestyle=\"-\", label=\"0.7° around center of Rubin SV_95_-25\")\n",
    "]\n",
    "\n",
    "\n",
    "plt.legend(legend_handles, legend_labels, loc=\"upper right\", fontsize=14, scatterpoints=1)\n",
    "\n",
    "# Labels\n",
    "plt.xlabel(\"RA [deg]\", fontsize=18)\n",
    "plt.ylabel(\"Dec [deg]\", fontsize=18)\n",
    "\n",
    "# Adjust the x-axis direction\n",
    "plt.gca().invert_xaxis()\n",
    "\n",
    "# Title to indicate the field being plotted\n",
    "plt.title(\"Rubin_SV_95_-25\", fontsize=16)\n",
    "\n",
    "# Show the plot\n",
    "plt.show()"
   ]
  }
 ],
 "metadata": {
  "kernelspec": {
   "display_name": "LSST",
   "language": "python",
   "name": "lsst"
  },
  "language_info": {
   "codemirror_mode": {
    "name": "ipython",
    "version": 3
   },
   "file_extension": ".py",
   "mimetype": "text/x-python",
   "name": "python",
   "nbconvert_exporter": "python",
   "pygments_lexer": "ipython3",
   "version": "3.12.11"
  }
 },
 "nbformat": 4,
 "nbformat_minor": 5
}
