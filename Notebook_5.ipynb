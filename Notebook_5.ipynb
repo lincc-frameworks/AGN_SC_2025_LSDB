{
 "cells": [
  {
   "cell_type": "markdown",
   "id": "5713a279-84ca-45d9-8f29-d829025322a9",
   "metadata": {
    "execution": {
     "iopub.execute_input": "2025-07-08T00:42:42.087726Z",
     "iopub.status.busy": "2025-07-08T00:42:42.087447Z",
     "iopub.status.idle": "2025-07-08T00:42:42.091750Z",
     "shell.execute_reply": "2025-07-08T00:42:42.091064Z",
     "shell.execute_reply.started": "2025-07-08T00:42:42.087705Z"
    }
   },
   "source": [
    "Author:LINCC Frameworks team\n",
    "\n",
    "Last updated: July 07, 2025"
   ]
  },
  {
   "cell_type": "code",
   "execution_count": null,
   "id": "34b967b5-afca-47e9-a0e9-e5ccde233f4e",
   "metadata": {},
   "outputs": [],
   "source": [
    "# show how to get SDSS 10\n",
    "# are any of them in photo-z catalog\n",
    "# if yes, do photo Z agree"
   ]
  },
  {
   "cell_type": "code",
   "execution_count": null,
   "id": "c1d9e89a-44e8-4583-b994-0e8268ba27e8",
   "metadata": {},
   "outputs": [],
   "source": [
    "# show how to get MiliQuas\n",
    "# crossmatch to DP1"
   ]
  },
  {
   "cell_type": "code",
   "execution_count": null,
   "id": "43ecb2fa-9b7f-4467-a87e-1f2c35a41d99",
   "metadata": {},
   "outputs": [],
   "source": [
    "# Run a function on them\n",
    "# a) sketchy SF function\n",
    "# b) lightcurve\n",
    "# c) EzTao?"
   ]
  },
  {
   "cell_type": "code",
   "execution_count": null,
   "id": "ef157e1f-776d-497d-82e0-5381aca79102",
   "metadata": {},
   "outputs": [],
   "source": []
  }
 ],
 "metadata": {
  "kernelspec": {
   "display_name": "LSST",
   "language": "python",
   "name": "lsst"
  },
  "language_info": {
   "codemirror_mode": {
    "name": "ipython",
    "version": 3
   },
   "file_extension": ".py",
   "mimetype": "text/x-python",
   "name": "python",
   "nbconvert_exporter": "python",
   "pygments_lexer": "ipython3",
   "version": "3.12.11"
  }
 },
 "nbformat": 4,
 "nbformat_minor": 5
}
